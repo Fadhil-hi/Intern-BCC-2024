{
 "cells": [
  {
   "cell_type": "markdown",
   "metadata": {},
   "source": [
    "### Mencari metode cleaning terbaik menggunakan model RandomForestClassifier + feature engineering"
   ]
  },
  {
   "cell_type": "code",
   "execution_count": 67,
   "metadata": {},
   "outputs": [],
   "source": [
    "import pandas as pd\n",
    "import numpy as np\n",
    "import matplotlib.pyplot as plt\n",
    "from sklearn.model_selection import train_test_split\n",
    "from sklearn.ensemble import RandomForestClassifier\n",
    "from sklearn.metrics import accuracy_score\n",
    "import seaborn as sns"
   ]
  },
  {
   "cell_type": "markdown",
   "metadata": {},
   "source": [
    "### Dataset dengan metode cleaning KNN, modus, dan zscore"
   ]
  },
  {
   "cell_type": "markdown",
   "metadata": {},
   "source": [
    "#### Percobaan 1 - tanpa drop fitur"
   ]
  },
  {
   "cell_type": "code",
   "execution_count": 12,
   "metadata": {},
   "outputs": [],
   "source": [
    "df_knn = pd.read_csv('df_KNN_mode_zscore.csv')"
   ]
  },
  {
   "cell_type": "code",
   "execution_count": 3,
   "metadata": {},
   "outputs": [
    {
     "data": {
      "text/plain": [
       "Index(['Unnamed: 0', 'date', 'Tn', 'Tx', 'Tavg', 'RH_avg', 'ss', 'ff_x',\n",
       "       'ddd_x', 'ff_avg', 'RR', 'ddd_car', 'ddd_car.1', 'region_name',\n",
       "       'flood'],\n",
       "      dtype='object')"
      ]
     },
     "execution_count": 3,
     "metadata": {},
     "output_type": "execute_result"
    }
   ],
   "source": [
    "df_knn.columns"
   ]
  },
  {
   "cell_type": "code",
   "execution_count": 10,
   "metadata": {},
   "outputs": [
    {
     "name": "stdout",
     "output_type": "stream",
     "text": [
      "<class 'pandas.core.frame.DataFrame'>\n",
      "RangeIndex: 6308 entries, 0 to 6307\n",
      "Data columns (total 14 columns):\n",
      " #   Column       Non-Null Count  Dtype  \n",
      "---  ------       --------------  -----  \n",
      " 0   date         6308 non-null   object \n",
      " 1   Tn           6308 non-null   float64\n",
      " 2   Tx           6308 non-null   float64\n",
      " 3   Tavg         6308 non-null   float64\n",
      " 4   RH_avg       6308 non-null   float64\n",
      " 5   ss           6308 non-null   float64\n",
      " 6   ff_x         6308 non-null   float64\n",
      " 7   ddd_x        6308 non-null   float64\n",
      " 8   ff_avg       6308 non-null   float64\n",
      " 9   RR           6308 non-null   float64\n",
      " 10  ddd_car      6308 non-null   object \n",
      " 11  ddd_car.1    6207 non-null   object \n",
      " 12  region_name  6308 non-null   object \n",
      " 13  flood        6308 non-null   int64  \n",
      "dtypes: float64(9), int64(1), object(4)\n",
      "memory usage: 690.1+ KB\n"
     ]
    }
   ],
   "source": [
    "df_knn.info()"
   ]
  },
  {
   "cell_type": "code",
   "execution_count": 13,
   "metadata": {},
   "outputs": [],
   "source": [
    "df_knn = df_knn.drop(columns=['Unnamed: 0', 'ddd_car.1'], axis=1)"
   ]
  },
  {
   "cell_type": "code",
   "execution_count": 14,
   "metadata": {},
   "outputs": [],
   "source": [
    "df_knn_copy = df_knn.copy()"
   ]
  },
  {
   "cell_type": "code",
   "execution_count": 27,
   "metadata": {},
   "outputs": [
    {
     "data": {
      "text/html": [
       "<div>\n",
       "<style scoped>\n",
       "    .dataframe tbody tr th:only-of-type {\n",
       "        vertical-align: middle;\n",
       "    }\n",
       "\n",
       "    .dataframe tbody tr th {\n",
       "        vertical-align: top;\n",
       "    }\n",
       "\n",
       "    .dataframe thead th {\n",
       "        text-align: right;\n",
       "    }\n",
       "</style>\n",
       "<table border=\"1\" class=\"dataframe\">\n",
       "  <thead>\n",
       "    <tr style=\"text-align: right;\">\n",
       "      <th></th>\n",
       "      <th>Tn</th>\n",
       "      <th>Tx</th>\n",
       "      <th>Tavg</th>\n",
       "      <th>RH_avg</th>\n",
       "      <th>ss</th>\n",
       "      <th>ff_x</th>\n",
       "      <th>ddd_x</th>\n",
       "      <th>ff_avg</th>\n",
       "      <th>RR</th>\n",
       "      <th>ddd_car</th>\n",
       "      <th>region_name</th>\n",
       "    </tr>\n",
       "  </thead>\n",
       "  <tbody>\n",
       "    <tr>\n",
       "      <th>0</th>\n",
       "      <td>26.0</td>\n",
       "      <td>34.8</td>\n",
       "      <td>28.6</td>\n",
       "      <td>81.0</td>\n",
       "      <td>5.800000</td>\n",
       "      <td>5.0</td>\n",
       "      <td>280.0</td>\n",
       "      <td>2.0</td>\n",
       "      <td>9.114286</td>\n",
       "      <td>S</td>\n",
       "      <td>Jakarta Selatan</td>\n",
       "    </tr>\n",
       "    <tr>\n",
       "      <th>1</th>\n",
       "      <td>25.6</td>\n",
       "      <td>33.2</td>\n",
       "      <td>27.0</td>\n",
       "      <td>88.0</td>\n",
       "      <td>8.700000</td>\n",
       "      <td>4.0</td>\n",
       "      <td>290.0</td>\n",
       "      <td>2.0</td>\n",
       "      <td>1.600000</td>\n",
       "      <td>W</td>\n",
       "      <td>Jakarta Selatan</td>\n",
       "    </tr>\n",
       "    <tr>\n",
       "      <th>2</th>\n",
       "      <td>24.4</td>\n",
       "      <td>34.9</td>\n",
       "      <td>28.1</td>\n",
       "      <td>80.0</td>\n",
       "      <td>5.400000</td>\n",
       "      <td>4.0</td>\n",
       "      <td>280.0</td>\n",
       "      <td>2.0</td>\n",
       "      <td>33.800000</td>\n",
       "      <td>SW</td>\n",
       "      <td>Jakarta Selatan</td>\n",
       "    </tr>\n",
       "    <tr>\n",
       "      <th>3</th>\n",
       "      <td>24.8</td>\n",
       "      <td>33.6</td>\n",
       "      <td>29.2</td>\n",
       "      <td>81.0</td>\n",
       "      <td>6.600000</td>\n",
       "      <td>3.0</td>\n",
       "      <td>200.0</td>\n",
       "      <td>1.0</td>\n",
       "      <td>17.742857</td>\n",
       "      <td>S</td>\n",
       "      <td>Jakarta Selatan</td>\n",
       "    </tr>\n",
       "    <tr>\n",
       "      <th>4</th>\n",
       "      <td>25.8</td>\n",
       "      <td>33.6</td>\n",
       "      <td>26.7</td>\n",
       "      <td>91.0</td>\n",
       "      <td>3.200000</td>\n",
       "      <td>3.0</td>\n",
       "      <td>180.0</td>\n",
       "      <td>1.0</td>\n",
       "      <td>11.457143</td>\n",
       "      <td>S</td>\n",
       "      <td>Jakarta Selatan</td>\n",
       "    </tr>\n",
       "    <tr>\n",
       "      <th>...</th>\n",
       "      <td>...</td>\n",
       "      <td>...</td>\n",
       "      <td>...</td>\n",
       "      <td>...</td>\n",
       "      <td>...</td>\n",
       "      <td>...</td>\n",
       "      <td>...</td>\n",
       "      <td>...</td>\n",
       "      <td>...</td>\n",
       "      <td>...</td>\n",
       "      <td>...</td>\n",
       "    </tr>\n",
       "    <tr>\n",
       "      <th>6303</th>\n",
       "      <td>23.8</td>\n",
       "      <td>32.0</td>\n",
       "      <td>28.0</td>\n",
       "      <td>70.0</td>\n",
       "      <td>6.285714</td>\n",
       "      <td>12.0</td>\n",
       "      <td>180.0</td>\n",
       "      <td>5.0</td>\n",
       "      <td>15.571429</td>\n",
       "      <td>W</td>\n",
       "      <td>Jakarta Timur</td>\n",
       "    </tr>\n",
       "    <tr>\n",
       "      <th>6304</th>\n",
       "      <td>24.0</td>\n",
       "      <td>33.4</td>\n",
       "      <td>28.5</td>\n",
       "      <td>69.0</td>\n",
       "      <td>4.914286</td>\n",
       "      <td>14.0</td>\n",
       "      <td>250.0</td>\n",
       "      <td>3.0</td>\n",
       "      <td>2.085714</td>\n",
       "      <td>SE</td>\n",
       "      <td>Jakarta Timur</td>\n",
       "    </tr>\n",
       "    <tr>\n",
       "      <th>6305</th>\n",
       "      <td>25.2</td>\n",
       "      <td>33.4</td>\n",
       "      <td>28.7</td>\n",
       "      <td>70.0</td>\n",
       "      <td>6.942857</td>\n",
       "      <td>14.0</td>\n",
       "      <td>120.0</td>\n",
       "      <td>5.0</td>\n",
       "      <td>5.300000</td>\n",
       "      <td>SW</td>\n",
       "      <td>Jakarta Timur</td>\n",
       "    </tr>\n",
       "    <tr>\n",
       "      <th>6306</th>\n",
       "      <td>24.0</td>\n",
       "      <td>34.4</td>\n",
       "      <td>30.0</td>\n",
       "      <td>64.0</td>\n",
       "      <td>5.742857</td>\n",
       "      <td>14.0</td>\n",
       "      <td>240.0</td>\n",
       "      <td>5.0</td>\n",
       "      <td>6.242857</td>\n",
       "      <td>W</td>\n",
       "      <td>Jakarta Timur</td>\n",
       "    </tr>\n",
       "    <tr>\n",
       "      <th>6307</th>\n",
       "      <td>25.4</td>\n",
       "      <td>32.8</td>\n",
       "      <td>28.2</td>\n",
       "      <td>69.0</td>\n",
       "      <td>6.514286</td>\n",
       "      <td>14.0</td>\n",
       "      <td>180.0</td>\n",
       "      <td>5.0</td>\n",
       "      <td>9.900000</td>\n",
       "      <td>SE</td>\n",
       "      <td>Jakarta Timur</td>\n",
       "    </tr>\n",
       "  </tbody>\n",
       "</table>\n",
       "<p>6308 rows × 11 columns</p>\n",
       "</div>"
      ],
      "text/plain": [
       "        Tn    Tx  Tavg  RH_avg        ss  ff_x  ddd_x  ff_avg         RR  \\\n",
       "0     26.0  34.8  28.6    81.0  5.800000   5.0  280.0     2.0   9.114286   \n",
       "1     25.6  33.2  27.0    88.0  8.700000   4.0  290.0     2.0   1.600000   \n",
       "2     24.4  34.9  28.1    80.0  5.400000   4.0  280.0     2.0  33.800000   \n",
       "3     24.8  33.6  29.2    81.0  6.600000   3.0  200.0     1.0  17.742857   \n",
       "4     25.8  33.6  26.7    91.0  3.200000   3.0  180.0     1.0  11.457143   \n",
       "...    ...   ...   ...     ...       ...   ...    ...     ...        ...   \n",
       "6303  23.8  32.0  28.0    70.0  6.285714  12.0  180.0     5.0  15.571429   \n",
       "6304  24.0  33.4  28.5    69.0  4.914286  14.0  250.0     3.0   2.085714   \n",
       "6305  25.2  33.4  28.7    70.0  6.942857  14.0  120.0     5.0   5.300000   \n",
       "6306  24.0  34.4  30.0    64.0  5.742857  14.0  240.0     5.0   6.242857   \n",
       "6307  25.4  32.8  28.2    69.0  6.514286  14.0  180.0     5.0   9.900000   \n",
       "\n",
       "     ddd_car      region_name  \n",
       "0         S   Jakarta Selatan  \n",
       "1         W   Jakarta Selatan  \n",
       "2         SW  Jakarta Selatan  \n",
       "3         S   Jakarta Selatan  \n",
       "4         S   Jakarta Selatan  \n",
       "...      ...              ...  \n",
       "6303      W     Jakarta Timur  \n",
       "6304      SE    Jakarta Timur  \n",
       "6305      SW    Jakarta Timur  \n",
       "6306      W     Jakarta Timur  \n",
       "6307      SE    Jakarta Timur  \n",
       "\n",
       "[6308 rows x 11 columns]"
      ]
     },
     "execution_count": 27,
     "metadata": {},
     "output_type": "execute_result"
    }
   ],
   "source": [
    "df_knn.iloc[:,1:12]"
   ]
  },
  {
   "cell_type": "code",
   "execution_count": 28,
   "metadata": {},
   "outputs": [],
   "source": [
    "df_train = df_knn.iloc[:,1:12]\n",
    "df_target = df_knn['flood']"
   ]
  },
  {
   "cell_type": "code",
   "execution_count": 29,
   "metadata": {},
   "outputs": [],
   "source": [
    "df_train_dummied = pd.get_dummies(df_train, columns=['ddd_car', 'region_name'])"
   ]
  },
  {
   "cell_type": "code",
   "execution_count": 30,
   "metadata": {},
   "outputs": [],
   "source": [
    "X_train, X_test, y_train, y_test = train_test_split(df_train_dummied, df_target, test_size=0.2, random_state=42)"
   ]
  },
  {
   "cell_type": "code",
   "execution_count": 25,
   "metadata": {},
   "outputs": [],
   "source": [
    "rf1 = RandomForestClassifier()"
   ]
  },
  {
   "cell_type": "code",
   "execution_count": 31,
   "metadata": {},
   "outputs": [],
   "source": [
    "model1 = rf1.fit(X_train, y_train)"
   ]
  },
  {
   "cell_type": "code",
   "execution_count": 34,
   "metadata": {},
   "outputs": [],
   "source": [
    "model1_predict = model1.predict(X_test)"
   ]
  },
  {
   "cell_type": "code",
   "execution_count": 35,
   "metadata": {},
   "outputs": [],
   "source": [
    "ac1 = accuracy_score(y_test, model1_predict)"
   ]
  },
  {
   "cell_type": "markdown",
   "metadata": {},
   "source": [
    "### Hasil akurasi tanpa melakukan drop fitur satupun"
   ]
  },
  {
   "cell_type": "code",
   "execution_count": 36,
   "metadata": {},
   "outputs": [
    {
     "name": "stdout",
     "output_type": "stream",
     "text": [
      "Nilai metrik accuracy metode cleaning ke-1 :  0.9144215530903328\n"
     ]
    }
   ],
   "source": [
    "print('Nilai metrik accuracy metode cleaning ke-1 : ', ac1)"
   ]
  },
  {
   "cell_type": "markdown",
   "metadata": {},
   "source": [
    "#### Percobaan 2 - drop fitur ss"
   ]
  },
  {
   "cell_type": "code",
   "execution_count": 51,
   "metadata": {},
   "outputs": [],
   "source": [
    "df_train_2 = df_train.drop(columns=['ss'], axis=1)\n",
    "df_target = df_knn['flood']\n",
    "\n",
    "df_train_dummied_2 = pd.get_dummies(df_train_2, columns=['ddd_car', 'region_name'])\n",
    "X_train, X_test, y_train, y_test = train_test_split(df_train_dummied_2, df_target, test_size=0.2, random_state=42)"
   ]
  },
  {
   "cell_type": "code",
   "execution_count": 52,
   "metadata": {},
   "outputs": [],
   "source": [
    "rf2 = RandomForestClassifier()\n",
    "model2 = rf2.fit(X_train, y_train)\n",
    "model2_predict = model2.predict(X_test)\n",
    "ac2 = accuracy_score(y_test, model1_predict)"
   ]
  },
  {
   "cell_type": "code",
   "execution_count": 53,
   "metadata": {},
   "outputs": [
    {
     "name": "stdout",
     "output_type": "stream",
     "text": [
      "Nilai metrik accuracy metode cleaning ke-2 :  0.9112519809825673\n"
     ]
    }
   ],
   "source": [
    "print('Nilai metrik accuracy metode cleaning ke-2 : ', ac2)"
   ]
  },
  {
   "cell_type": "markdown",
   "metadata": {},
   "source": [
    "Karena nilai akurasi menjadi turun, itu artinya fitur ss memiliki pengaruh terhadap data target"
   ]
  },
  {
   "cell_type": "markdown",
   "metadata": {},
   "source": [
    "Percobaan 3 - Oversampling"
   ]
  },
  {
   "cell_type": "code",
   "execution_count": 43,
   "metadata": {},
   "outputs": [
    {
     "name": "stdout",
     "output_type": "stream",
     "text": [
      "Collecting imblearnNote: you may need to restart the kernel to use updated packages.\n",
      "\n",
      "  Downloading imblearn-0.0-py2.py3-none-any.whl (1.9 kB)\n",
      "Collecting imbalanced-learn\n",
      "  Downloading imbalanced_learn-0.12.0-py3-none-any.whl (257 kB)\n",
      "     -------------------------------------- 257.7/257.7 kB 2.2 MB/s eta 0:00:00\n",
      "Requirement already satisfied: numpy>=1.17.3 in c:\\users\\fayme amelia celesta\\appdata\\local\\programs\\python\\python311\\lib\\site-packages (from imbalanced-learn->imblearn) (1.25.2)\n",
      "Requirement already satisfied: scipy>=1.5.0 in c:\\users\\fayme amelia celesta\\appdata\\local\\programs\\python\\python311\\lib\\site-packages (from imbalanced-learn->imblearn) (1.11.1)\n",
      "Requirement already satisfied: scikit-learn>=1.0.2 in c:\\users\\fayme amelia celesta\\appdata\\local\\programs\\python\\python311\\lib\\site-packages (from imbalanced-learn->imblearn) (1.3.0)\n",
      "Requirement already satisfied: joblib>=1.1.1 in c:\\users\\fayme amelia celesta\\appdata\\local\\programs\\python\\python311\\lib\\site-packages (from imbalanced-learn->imblearn) (1.3.2)\n",
      "Requirement already satisfied: threadpoolctl>=2.0.0 in c:\\users\\fayme amelia celesta\\appdata\\local\\programs\\python\\python311\\lib\\site-packages (from imbalanced-learn->imblearn) (3.2.0)\n",
      "Installing collected packages: imbalanced-learn, imblearn\n",
      "Successfully installed imbalanced-learn-0.12.0 imblearn-0.0\n"
     ]
    },
    {
     "name": "stderr",
     "output_type": "stream",
     "text": [
      "\n",
      "[notice] A new release of pip available: 22.3 -> 24.0\n",
      "[notice] To update, run: python.exe -m pip install --upgrade pip\n"
     ]
    }
   ],
   "source": [
    "pip install imblearn"
   ]
  },
  {
   "cell_type": "code",
   "execution_count": 44,
   "metadata": {},
   "outputs": [],
   "source": [
    "from imblearn.over_sampling import RandomOverSampler"
   ]
  },
  {
   "cell_type": "code",
   "execution_count": 58,
   "metadata": {},
   "outputs": [],
   "source": [
    "oversampler = RandomOverSampler(random_state=42)"
   ]
  },
  {
   "cell_type": "code",
   "execution_count": 59,
   "metadata": {},
   "outputs": [],
   "source": [
    "X_resampled, y_resampled = oversampler.fit_resample(df_train_dummied, df_target)"
   ]
  },
  {
   "cell_type": "code",
   "execution_count": 60,
   "metadata": {},
   "outputs": [
    {
     "name": "stdout",
     "output_type": "stream",
     "text": [
      "flood\n",
      "0    5832\n",
      "1    5832\n",
      "Name: count, dtype: int64\n"
     ]
    }
   ],
   "source": [
    "print(y_resampled.value_counts())"
   ]
  },
  {
   "cell_type": "code",
   "execution_count": 61,
   "metadata": {},
   "outputs": [],
   "source": [
    "X_train, X_test, y_train, y_test = train_test_split(X_resampled, y_resampled, test_size=0.2, random_state=42)"
   ]
  },
  {
   "cell_type": "code",
   "execution_count": 63,
   "metadata": {},
   "outputs": [],
   "source": [
    "rf3 = RandomForestClassifier()\n",
    "model3 = rf3.fit(X_train, y_train)\n",
    "model3_predict = model3.predict(X_test)\n",
    "ac3 = accuracy_score(y_test, model3_predict)"
   ]
  },
  {
   "cell_type": "code",
   "execution_count": 64,
   "metadata": {},
   "outputs": [
    {
     "name": "stdout",
     "output_type": "stream",
     "text": [
      "Nilai metrik accuracy metode cleaning ke-3 :  0.9837119588512645\n"
     ]
    }
   ],
   "source": [
    "print('Nilai metrik accuracy metode cleaning ke-3 : ', ac3)"
   ]
  },
  {
   "cell_type": "code",
   "execution_count": 65,
   "metadata": {},
   "outputs": [],
   "source": [
    "from sklearn.metrics import f1_score,confusion_matrix"
   ]
  },
  {
   "cell_type": "code",
   "execution_count": 68,
   "metadata": {},
   "outputs": [
    {
     "data": {
      "text/plain": [
       "<Axes: >"
      ]
     },
     "execution_count": 68,
     "metadata": {},
     "output_type": "execute_result"
    },
    {
     "data": {
      "image/png": "[encoded data removed]",
      "text/plain": [
       "<Figure size 640x480 with 2 Axes>"
      ]
     },
     "metadata": {},
     "output_type": "display_data"
    }
   ],
   "source": [
    "cm_2 = confusion_matrix(y_test,model3_predict)\n",
    "sns.heatmap(cm_2,annot=True,fmt=\"d\")"
   ]
  }
 ],
 "metadata": {
  "kernelspec": {
   "display_name": "Python 3.11.0 64-bit",
   "language": "python",
   "name": "python3"
  },
  "language_info": {
   "codemirror_mode": {
    "name": "ipython",
    "version": 3
   },
   "file_extension": ".py",
   "mimetype": "text/x-python",
   "name": "python",
   "nbconvert_exporter": "python",
   "pygments_lexer": "ipython3",
   "version": "3.11.0"
  },
  "orig_nbformat": 4,
  "vscode": {
   "interpreter": {
    "hash": "308ea38c27cab8b3f9525a60c8213e172097bb9984596a40bca47204d40a86e4"
   }
  }
 },
 "nbformat": 4,
 "nbformat_minor": 2
}
