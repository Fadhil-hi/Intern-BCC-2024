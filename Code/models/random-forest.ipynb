{
 "cells": [
  {
   "cell_type": "code",
   "execution_count": 1,
   "metadata": {},
   "outputs": [],
   "source": [
    "import pandas as pd\n",
    "import numpy as np\n",
    "from sklearn.ensemble import RandomForestClassifier\n",
    "import seaborn as sns\n",
    "import matplotlib.pyplot as plt\n",
    "import plotly.graph_objs as go\n",
    "import plotly.express as px\n",
    "from sklearn.model_selection import train_test_split\n",
    "from scipy import stats"
   ]
  },
  {
   "cell_type": "code",
   "execution_count": 2,
   "metadata": {},
   "outputs": [
    {
     "data": {
      "text/html": [
       "<div>\n",
       "<style scoped>\n",
       "    .dataframe tbody tr th:only-of-type {\n",
       "        vertical-align: middle;\n",
       "    }\n",
       "\n",
       "    .dataframe tbody tr th {\n",
       "        vertical-align: top;\n",
       "    }\n",
       "\n",
       "    .dataframe thead th {\n",
       "        text-align: right;\n",
       "    }\n",
       "</style>\n",
       "<table border=\"1\" class=\"dataframe\">\n",
       "  <thead>\n",
       "    <tr style=\"text-align: right;\">\n",
       "      <th></th>\n",
       "      <th>date</th>\n",
       "      <th>Tn</th>\n",
       "      <th>Tx</th>\n",
       "      <th>Tavg</th>\n",
       "      <th>RH_avg</th>\n",
       "      <th>RR</th>\n",
       "      <th>ss</th>\n",
       "      <th>ff_x</th>\n",
       "      <th>ddd_x</th>\n",
       "      <th>ff_avg</th>\n",
       "      <th>ddd_car</th>\n",
       "      <th>station_id</th>\n",
       "      <th>station_name</th>\n",
       "      <th>region_name</th>\n",
       "      <th>flood</th>\n",
       "    </tr>\n",
       "  </thead>\n",
       "  <tbody>\n",
       "    <tr>\n",
       "      <th>0</th>\n",
       "      <td>2016-01-01</td>\n",
       "      <td>26.0</td>\n",
       "      <td>34.8</td>\n",
       "      <td>28.6</td>\n",
       "      <td>81.0</td>\n",
       "      <td>NaN</td>\n",
       "      <td>5.8</td>\n",
       "      <td>5.0</td>\n",
       "      <td>280.0</td>\n",
       "      <td>2.0</td>\n",
       "      <td>S</td>\n",
       "      <td>96733</td>\n",
       "      <td>Stasiun Klimatologi Banten</td>\n",
       "      <td>Jakarta Selatan</td>\n",
       "      <td>0</td>\n",
       "    </tr>\n",
       "    <tr>\n",
       "      <th>1</th>\n",
       "      <td>2016-01-02</td>\n",
       "      <td>25.6</td>\n",
       "      <td>33.2</td>\n",
       "      <td>27.0</td>\n",
       "      <td>88.0</td>\n",
       "      <td>1.6</td>\n",
       "      <td>8.7</td>\n",
       "      <td>4.0</td>\n",
       "      <td>290.0</td>\n",
       "      <td>2.0</td>\n",
       "      <td>W</td>\n",
       "      <td>96733</td>\n",
       "      <td>Stasiun Klimatologi Banten</td>\n",
       "      <td>Jakarta Selatan</td>\n",
       "      <td>1</td>\n",
       "    </tr>\n",
       "    <tr>\n",
       "      <th>2</th>\n",
       "      <td>2016-01-03</td>\n",
       "      <td>24.4</td>\n",
       "      <td>34.9</td>\n",
       "      <td>28.1</td>\n",
       "      <td>80.0</td>\n",
       "      <td>33.8</td>\n",
       "      <td>5.4</td>\n",
       "      <td>4.0</td>\n",
       "      <td>280.0</td>\n",
       "      <td>2.0</td>\n",
       "      <td>SW</td>\n",
       "      <td>96733</td>\n",
       "      <td>Stasiun Klimatologi Banten</td>\n",
       "      <td>Jakarta Selatan</td>\n",
       "      <td>1</td>\n",
       "    </tr>\n",
       "    <tr>\n",
       "      <th>3</th>\n",
       "      <td>2016-01-04</td>\n",
       "      <td>24.8</td>\n",
       "      <td>33.6</td>\n",
       "      <td>29.2</td>\n",
       "      <td>81.0</td>\n",
       "      <td>NaN</td>\n",
       "      <td>6.6</td>\n",
       "      <td>3.0</td>\n",
       "      <td>200.0</td>\n",
       "      <td>1.0</td>\n",
       "      <td>S</td>\n",
       "      <td>96733</td>\n",
       "      <td>Stasiun Klimatologi Banten</td>\n",
       "      <td>Jakarta Selatan</td>\n",
       "      <td>0</td>\n",
       "    </tr>\n",
       "    <tr>\n",
       "      <th>4</th>\n",
       "      <td>2016-01-05</td>\n",
       "      <td>25.8</td>\n",
       "      <td>33.6</td>\n",
       "      <td>26.7</td>\n",
       "      <td>91.0</td>\n",
       "      <td>NaN</td>\n",
       "      <td>3.2</td>\n",
       "      <td>3.0</td>\n",
       "      <td>180.0</td>\n",
       "      <td>1.0</td>\n",
       "      <td>S</td>\n",
       "      <td>96733</td>\n",
       "      <td>Stasiun Klimatologi Banten</td>\n",
       "      <td>Jakarta Selatan</td>\n",
       "      <td>0</td>\n",
       "    </tr>\n",
       "    <tr>\n",
       "      <th>...</th>\n",
       "      <td>...</td>\n",
       "      <td>...</td>\n",
       "      <td>...</td>\n",
       "      <td>...</td>\n",
       "      <td>...</td>\n",
       "      <td>...</td>\n",
       "      <td>...</td>\n",
       "      <td>...</td>\n",
       "      <td>...</td>\n",
       "      <td>...</td>\n",
       "      <td>...</td>\n",
       "      <td>...</td>\n",
       "      <td>...</td>\n",
       "      <td>...</td>\n",
       "      <td>...</td>\n",
       "    </tr>\n",
       "    <tr>\n",
       "      <th>6303</th>\n",
       "      <td>2018-12-27</td>\n",
       "      <td>23.8</td>\n",
       "      <td>32.0</td>\n",
       "      <td>28.0</td>\n",
       "      <td>70.0</td>\n",
       "      <td>NaN</td>\n",
       "      <td>NaN</td>\n",
       "      <td>12.0</td>\n",
       "      <td>180.0</td>\n",
       "      <td>5.0</td>\n",
       "      <td>W</td>\n",
       "      <td>96747</td>\n",
       "      <td>Halim Perdana Kusuma Jakarta</td>\n",
       "      <td>Jakarta Timur</td>\n",
       "      <td>0</td>\n",
       "    </tr>\n",
       "    <tr>\n",
       "      <th>6304</th>\n",
       "      <td>2018-12-28</td>\n",
       "      <td>24.0</td>\n",
       "      <td>33.4</td>\n",
       "      <td>28.5</td>\n",
       "      <td>69.0</td>\n",
       "      <td>NaN</td>\n",
       "      <td>NaN</td>\n",
       "      <td>14.0</td>\n",
       "      <td>250.0</td>\n",
       "      <td>3.0</td>\n",
       "      <td>SE</td>\n",
       "      <td>96747</td>\n",
       "      <td>Halim Perdana Kusuma Jakarta</td>\n",
       "      <td>Jakarta Timur</td>\n",
       "      <td>0</td>\n",
       "    </tr>\n",
       "    <tr>\n",
       "      <th>6305</th>\n",
       "      <td>2018-12-29</td>\n",
       "      <td>25.2</td>\n",
       "      <td>33.4</td>\n",
       "      <td>28.7</td>\n",
       "      <td>70.0</td>\n",
       "      <td>NaN</td>\n",
       "      <td>NaN</td>\n",
       "      <td>14.0</td>\n",
       "      <td>120.0</td>\n",
       "      <td>5.0</td>\n",
       "      <td>SW</td>\n",
       "      <td>96747</td>\n",
       "      <td>Halim Perdana Kusuma Jakarta</td>\n",
       "      <td>Jakarta Timur</td>\n",
       "      <td>0</td>\n",
       "    </tr>\n",
       "    <tr>\n",
       "      <th>6306</th>\n",
       "      <td>2018-12-30</td>\n",
       "      <td>24.0</td>\n",
       "      <td>34.4</td>\n",
       "      <td>30.0</td>\n",
       "      <td>64.0</td>\n",
       "      <td>NaN</td>\n",
       "      <td>NaN</td>\n",
       "      <td>14.0</td>\n",
       "      <td>240.0</td>\n",
       "      <td>5.0</td>\n",
       "      <td>W</td>\n",
       "      <td>96747</td>\n",
       "      <td>Halim Perdana Kusuma Jakarta</td>\n",
       "      <td>Jakarta Timur</td>\n",
       "      <td>0</td>\n",
       "    </tr>\n",
       "    <tr>\n",
       "      <th>6307</th>\n",
       "      <td>2018-12-31</td>\n",
       "      <td>25.4</td>\n",
       "      <td>32.8</td>\n",
       "      <td>28.2</td>\n",
       "      <td>69.0</td>\n",
       "      <td>9.9</td>\n",
       "      <td>NaN</td>\n",
       "      <td>14.0</td>\n",
       "      <td>180.0</td>\n",
       "      <td>5.0</td>\n",
       "      <td>SE</td>\n",
       "      <td>96747</td>\n",
       "      <td>Halim Perdana Kusuma Jakarta</td>\n",
       "      <td>Jakarta Timur</td>\n",
       "      <td>0</td>\n",
       "    </tr>\n",
       "  </tbody>\n",
       "</table>\n",
       "<p>6308 rows × 15 columns</p>\n",
       "</div>"
      ],
      "text/plain": [
       "            date    Tn    Tx  Tavg  RH_avg    RR   ss  ff_x  ddd_x  ff_avg  \\\n",
       "0     2016-01-01  26.0  34.8  28.6    81.0   NaN  5.8   5.0  280.0     2.0   \n",
       "1     2016-01-02  25.6  33.2  27.0    88.0   1.6  8.7   4.0  290.0     2.0   \n",
       "2     2016-01-03  24.4  34.9  28.1    80.0  33.8  5.4   4.0  280.0     2.0   \n",
       "3     2016-01-04  24.8  33.6  29.2    81.0   NaN  6.6   3.0  200.0     1.0   \n",
       "4     2016-01-05  25.8  33.6  26.7    91.0   NaN  3.2   3.0  180.0     1.0   \n",
       "...          ...   ...   ...   ...     ...   ...  ...   ...    ...     ...   \n",
       "6303  2018-12-27  23.8  32.0  28.0    70.0   NaN  NaN  12.0  180.0     5.0   \n",
       "6304  2018-12-28  24.0  33.4  28.5    69.0   NaN  NaN  14.0  250.0     3.0   \n",
       "6305  2018-12-29  25.2  33.4  28.7    70.0   NaN  NaN  14.0  120.0     5.0   \n",
       "6306  2018-12-30  24.0  34.4  30.0    64.0   NaN  NaN  14.0  240.0     5.0   \n",
       "6307  2018-12-31  25.4  32.8  28.2    69.0   9.9  NaN  14.0  180.0     5.0   \n",
       "\n",
       "     ddd_car  station_id                  station_name      region_name  flood  \n",
       "0         S        96733    Stasiun Klimatologi Banten  Jakarta Selatan      0  \n",
       "1         W        96733    Stasiun Klimatologi Banten  Jakarta Selatan      1  \n",
       "2         SW       96733    Stasiun Klimatologi Banten  Jakarta Selatan      1  \n",
       "3         S        96733    Stasiun Klimatologi Banten  Jakarta Selatan      0  \n",
       "4         S        96733    Stasiun Klimatologi Banten  Jakarta Selatan      0  \n",
       "...      ...         ...                           ...              ...    ...  \n",
       "6303      W        96747  Halim Perdana Kusuma Jakarta    Jakarta Timur      0  \n",
       "6304      SE       96747  Halim Perdana Kusuma Jakarta    Jakarta Timur      0  \n",
       "6305      SW       96747  Halim Perdana Kusuma Jakarta    Jakarta Timur      0  \n",
       "6306      W        96747  Halim Perdana Kusuma Jakarta    Jakarta Timur      0  \n",
       "6307      SE       96747  Halim Perdana Kusuma Jakarta    Jakarta Timur      0  \n",
       "\n",
       "[6308 rows x 15 columns]"
      ]
     },
     "execution_count": 2,
     "metadata": {},
     "output_type": "execute_result"
    }
   ],
   "source": [
    "df = pd.read_csv('climate_vs_flood.csv', header=0)\n",
    "df"
   ]
  },
  {
   "cell_type": "markdown",
   "metadata": {},
   "source": [
    "### EDA"
   ]
  },
  {
   "cell_type": "code",
   "execution_count": 5,
   "metadata": {},
   "outputs": [
    {
     "name": "stdout",
     "output_type": "stream",
     "text": [
      "<class 'pandas.core.frame.DataFrame'>\n",
      "RangeIndex: 6308 entries, 0 to 6307\n",
      "Data columns (total 15 columns):\n",
      " #   Column        Non-Null Count  Dtype  \n",
      "---  ------        --------------  -----  \n",
      " 0   date          6308 non-null   object \n",
      " 1   Tn            5996 non-null   float64\n",
      " 2   Tx            6095 non-null   float64\n",
      " 3   Tavg          6262 non-null   float64\n",
      " 4   RH_avg        6256 non-null   float64\n",
      " 5   RR            3993 non-null   float64\n",
      " 6   ss            5049 non-null   float64\n",
      " 7   ff_x          6286 non-null   float64\n",
      " 8   ddd_x         6286 non-null   float64\n",
      " 9   ff_avg        6215 non-null   float64\n",
      " 10  ddd_car       6207 non-null   object \n",
      " 11  station_id    6308 non-null   int64  \n",
      " 12  station_name  6308 non-null   object \n",
      " 13  region_name   6308 non-null   object \n",
      " 14  flood         6308 non-null   int64  \n",
      "dtypes: float64(9), int64(2), object(4)\n",
      "memory usage: 739.3+ KB\n"
     ]
    }
   ],
   "source": [
    "df.info()"
   ]
  },
  {
   "cell_type": "code",
   "execution_count": 6,
   "metadata": {},
   "outputs": [
    {
     "data": {
      "text/plain": [
       "date               0\n",
       "Tn               312\n",
       "Tx               213\n",
       "Tavg              46\n",
       "RH_avg            52\n",
       "RR              2315\n",
       "ss              1259\n",
       "ff_x              22\n",
       "ddd_x             22\n",
       "ff_avg            93\n",
       "ddd_car          101\n",
       "station_id         0\n",
       "station_name       0\n",
       "region_name        0\n",
       "flood              0\n",
       "dtype: int64"
      ]
     },
     "execution_count": 6,
     "metadata": {},
     "output_type": "execute_result"
    }
   ],
   "source": [
    "df.isna().sum()"
   ]
  },
  {
   "cell_type": "code",
   "execution_count": 7,
   "metadata": {},
   "outputs": [
    {
     "data": {
      "text/html": [
       "<div>\n",
       "<style scoped>\n",
       "    .dataframe tbody tr th:only-of-type {\n",
       "        vertical-align: middle;\n",
       "    }\n",
       "\n",
       "    .dataframe tbody tr th {\n",
       "        vertical-align: top;\n",
       "    }\n",
       "\n",
       "    .dataframe thead th {\n",
       "        text-align: right;\n",
       "    }\n",
       "</style>\n",
       "<table border=\"1\" class=\"dataframe\">\n",
       "  <thead>\n",
       "    <tr style=\"text-align: right;\">\n",
       "      <th></th>\n",
       "      <th>Tn</th>\n",
       "      <th>Tx</th>\n",
       "      <th>Tavg</th>\n",
       "      <th>RH_avg</th>\n",
       "      <th>RR</th>\n",
       "      <th>ss</th>\n",
       "      <th>ff_x</th>\n",
       "      <th>ddd_x</th>\n",
       "      <th>ff_avg</th>\n",
       "      <th>station_id</th>\n",
       "      <th>flood</th>\n",
       "    </tr>\n",
       "  </thead>\n",
       "  <tbody>\n",
       "    <tr>\n",
       "      <th>count</th>\n",
       "      <td>5996.000000</td>\n",
       "      <td>6095.000000</td>\n",
       "      <td>6262.000000</td>\n",
       "      <td>6256.000000</td>\n",
       "      <td>3993.000000</td>\n",
       "      <td>5049.000000</td>\n",
       "      <td>6286.000000</td>\n",
       "      <td>6286.000000</td>\n",
       "      <td>6215.000000</td>\n",
       "      <td>6308.000000</td>\n",
       "      <td>6308.000000</td>\n",
       "    </tr>\n",
       "    <tr>\n",
       "      <th>mean</th>\n",
       "      <td>25.397598</td>\n",
       "      <td>32.577129</td>\n",
       "      <td>28.338135</td>\n",
       "      <td>76.903932</td>\n",
       "      <td>9.415502</td>\n",
       "      <td>5.008160</td>\n",
       "      <td>4.991887</td>\n",
       "      <td>193.518772</td>\n",
       "      <td>2.338214</td>\n",
       "      <td>96741.052949</td>\n",
       "      <td>0.075460</td>\n",
       "    </tr>\n",
       "    <tr>\n",
       "      <th>std</th>\n",
       "      <td>3.226555</td>\n",
       "      <td>5.571823</td>\n",
       "      <td>1.798969</td>\n",
       "      <td>9.719251</td>\n",
       "      <td>18.460319</td>\n",
       "      <td>2.788718</td>\n",
       "      <td>5.856961</td>\n",
       "      <td>109.211671</td>\n",
       "      <td>1.857624</td>\n",
       "      <td>5.239928</td>\n",
       "      <td>0.264153</td>\n",
       "    </tr>\n",
       "    <tr>\n",
       "      <th>min</th>\n",
       "      <td>2.400000</td>\n",
       "      <td>21.300000</td>\n",
       "      <td>23.700000</td>\n",
       "      <td>34.000000</td>\n",
       "      <td>0.000000</td>\n",
       "      <td>0.000000</td>\n",
       "      <td>0.000000</td>\n",
       "      <td>0.000000</td>\n",
       "      <td>0.000000</td>\n",
       "      <td>96733.000000</td>\n",
       "      <td>0.000000</td>\n",
       "    </tr>\n",
       "    <tr>\n",
       "      <th>25%</th>\n",
       "      <td>24.400000</td>\n",
       "      <td>31.800000</td>\n",
       "      <td>27.700000</td>\n",
       "      <td>72.000000</td>\n",
       "      <td>0.000000</td>\n",
       "      <td>2.800000</td>\n",
       "      <td>4.000000</td>\n",
       "      <td>80.000000</td>\n",
       "      <td>1.000000</td>\n",
       "      <td>96733.000000</td>\n",
       "      <td>0.000000</td>\n",
       "    </tr>\n",
       "    <tr>\n",
       "      <th>50%</th>\n",
       "      <td>25.000000</td>\n",
       "      <td>32.600000</td>\n",
       "      <td>28.400000</td>\n",
       "      <td>77.000000</td>\n",
       "      <td>1.400000</td>\n",
       "      <td>5.400000</td>\n",
       "      <td>4.000000</td>\n",
       "      <td>230.000000</td>\n",
       "      <td>2.000000</td>\n",
       "      <td>96741.000000</td>\n",
       "      <td>0.000000</td>\n",
       "    </tr>\n",
       "    <tr>\n",
       "      <th>75%</th>\n",
       "      <td>26.000000</td>\n",
       "      <td>33.400000</td>\n",
       "      <td>29.100000</td>\n",
       "      <td>82.000000</td>\n",
       "      <td>10.500000</td>\n",
       "      <td>7.100000</td>\n",
       "      <td>5.000000</td>\n",
       "      <td>280.000000</td>\n",
       "      <td>3.000000</td>\n",
       "      <td>96745.000000</td>\n",
       "      <td>0.000000</td>\n",
       "    </tr>\n",
       "    <tr>\n",
       "      <th>max</th>\n",
       "      <td>246.000000</td>\n",
       "      <td>334.000000</td>\n",
       "      <td>141.600000</td>\n",
       "      <td>488.000000</td>\n",
       "      <td>277.500000</td>\n",
       "      <td>11.600000</td>\n",
       "      <td>185.000000</td>\n",
       "      <td>360.000000</td>\n",
       "      <td>82.000000</td>\n",
       "      <td>96747.000000</td>\n",
       "      <td>1.000000</td>\n",
       "    </tr>\n",
       "  </tbody>\n",
       "</table>\n",
       "</div>"
      ],
      "text/plain": [
       "                Tn           Tx         Tavg       RH_avg           RR  \\\n",
       "count  5996.000000  6095.000000  6262.000000  6256.000000  3993.000000   \n",
       "mean     25.397598    32.577129    28.338135    76.903932     9.415502   \n",
       "std       3.226555     5.571823     1.798969     9.719251    18.460319   \n",
       "min       2.400000    21.300000    23.700000    34.000000     0.000000   \n",
       "25%      24.400000    31.800000    27.700000    72.000000     0.000000   \n",
       "50%      25.000000    32.600000    28.400000    77.000000     1.400000   \n",
       "75%      26.000000    33.400000    29.100000    82.000000    10.500000   \n",
       "max     246.000000   334.000000   141.600000   488.000000   277.500000   \n",
       "\n",
       "                ss         ff_x        ddd_x       ff_avg    station_id  \\\n",
       "count  5049.000000  6286.000000  6286.000000  6215.000000   6308.000000   \n",
       "mean      5.008160     4.991887   193.518772     2.338214  96741.052949   \n",
       "std       2.788718     5.856961   109.211671     1.857624      5.239928   \n",
       "min       0.000000     0.000000     0.000000     0.000000  96733.000000   \n",
       "25%       2.800000     4.000000    80.000000     1.000000  96733.000000   \n",
       "50%       5.400000     4.000000   230.000000     2.000000  96741.000000   \n",
       "75%       7.100000     5.000000   280.000000     3.000000  96745.000000   \n",
       "max      11.600000   185.000000   360.000000    82.000000  96747.000000   \n",
       "\n",
       "             flood  \n",
       "count  6308.000000  \n",
       "mean      0.075460  \n",
       "std       0.264153  \n",
       "min       0.000000  \n",
       "25%       0.000000  \n",
       "50%       0.000000  \n",
       "75%       0.000000  \n",
       "max       1.000000  "
      ]
     },
     "execution_count": 7,
     "metadata": {},
     "output_type": "execute_result"
    }
   ],
   "source": [
    "df.describe()"
   ]
  },
  {
   "cell_type": "code",
   "execution_count": 8,
   "metadata": {},
   "outputs": [
    {
     "name": "stdout",
     "output_type": "stream",
     "text": [
      "Unique Value of region_name :  4\n",
      "Unique Value of station_id :  4\n",
      "Unique Value of ddd_car :  9\n",
      "Unique Value of station_name :  4\n"
     ]
    }
   ],
   "source": [
    "print(\"Unique Value of region_name : \", df['region_name'].nunique())\n",
    "print(\"Unique Value of station_id : \", df['station_id'].nunique())\n",
    "print(\"Unique Value of ddd_car : \", df['ddd_car'].nunique())\n",
    "print(\"Unique Value of station_name : \", df['station_name'].nunique())"
   ]
  },
  {
   "cell_type": "code",
   "execution_count": 9,
   "metadata": {},
   "outputs": [
    {
     "data": {
      "text/html": [
       "<div>\n",
       "<style scoped>\n",
       "    .dataframe tbody tr th:only-of-type {\n",
       "        vertical-align: middle;\n",
       "    }\n",
       "\n",
       "    .dataframe tbody tr th {\n",
       "        vertical-align: top;\n",
       "    }\n",
       "\n",
       "    .dataframe thead th {\n",
       "        text-align: right;\n",
       "    }\n",
       "</style>\n",
       "<table border=\"1\" class=\"dataframe\">\n",
       "  <thead>\n",
       "    <tr style=\"text-align: right;\">\n",
       "      <th></th>\n",
       "      <th>ddd_car</th>\n",
       "      <th>ddd_cnt</th>\n",
       "    </tr>\n",
       "  </thead>\n",
       "  <tbody>\n",
       "    <tr>\n",
       "      <th>0</th>\n",
       "      <td>C</td>\n",
       "      <td>1239</td>\n",
       "    </tr>\n",
       "    <tr>\n",
       "      <th>1</th>\n",
       "      <td>E</td>\n",
       "      <td>626</td>\n",
       "    </tr>\n",
       "    <tr>\n",
       "      <th>2</th>\n",
       "      <td>N</td>\n",
       "      <td>1681</td>\n",
       "    </tr>\n",
       "    <tr>\n",
       "      <th>3</th>\n",
       "      <td>NE</td>\n",
       "      <td>432</td>\n",
       "    </tr>\n",
       "    <tr>\n",
       "      <th>4</th>\n",
       "      <td>NW</td>\n",
       "      <td>158</td>\n",
       "    </tr>\n",
       "    <tr>\n",
       "      <th>5</th>\n",
       "      <td>S</td>\n",
       "      <td>258</td>\n",
       "    </tr>\n",
       "    <tr>\n",
       "      <th>6</th>\n",
       "      <td>SE</td>\n",
       "      <td>235</td>\n",
       "    </tr>\n",
       "    <tr>\n",
       "      <th>7</th>\n",
       "      <td>SW</td>\n",
       "      <td>305</td>\n",
       "    </tr>\n",
       "    <tr>\n",
       "      <th>8</th>\n",
       "      <td>W</td>\n",
       "      <td>1273</td>\n",
       "    </tr>\n",
       "  </tbody>\n",
       "</table>\n",
       "</div>"
      ],
      "text/plain": [
       "  ddd_car  ddd_cnt\n",
       "0      C      1239\n",
       "1      E       626\n",
       "2      N      1681\n",
       "3      NE      432\n",
       "4      NW      158\n",
       "5      S       258\n",
       "6      SE      235\n",
       "7      SW      305\n",
       "8      W      1273"
      ]
     },
     "execution_count": 9,
     "metadata": {},
     "output_type": "execute_result"
    }
   ],
   "source": [
    "df_ddd_car_sum = df.groupby('ddd_car', as_index=0).agg(ddd_cnt=('ddd_car', 'count'))\n",
    "df_ddd_car_sum"
   ]
  },
  {
   "cell_type": "code",
   "execution_count": 10,
   "metadata": {},
   "outputs": [
    {
     "data": {
      "text/html": [
       "<div>\n",
       "<style scoped>\n",
       "    .dataframe tbody tr th:only-of-type {\n",
       "        vertical-align: middle;\n",
       "    }\n",
       "\n",
       "    .dataframe tbody tr th {\n",
       "        vertical-align: top;\n",
       "    }\n",
       "\n",
       "    .dataframe thead th {\n",
       "        text-align: right;\n",
       "    }\n",
       "</style>\n",
       "<table border=\"1\" class=\"dataframe\">\n",
       "  <thead>\n",
       "    <tr style=\"text-align: right;\">\n",
       "      <th></th>\n",
       "      <th>station_id</th>\n",
       "      <th>region_name</th>\n",
       "      <th>station_name</th>\n",
       "      <th>station_cnt</th>\n",
       "    </tr>\n",
       "  </thead>\n",
       "  <tbody>\n",
       "    <tr>\n",
       "      <th>0</th>\n",
       "      <td>96733</td>\n",
       "      <td>Jakarta Selatan</td>\n",
       "      <td>Stasiun Klimatologi Banten</td>\n",
       "      <td>1658</td>\n",
       "    </tr>\n",
       "    <tr>\n",
       "      <th>1</th>\n",
       "      <td>96741</td>\n",
       "      <td>Jakarta Utara</td>\n",
       "      <td>Stasiun Meteorologi Maritim Tanjung Priok</td>\n",
       "      <td>1779</td>\n",
       "    </tr>\n",
       "    <tr>\n",
       "      <th>2</th>\n",
       "      <td>96745</td>\n",
       "      <td>Jakarta Pusat</td>\n",
       "      <td>Stasiun Meteorologi Kemayoran</td>\n",
       "      <td>1814</td>\n",
       "    </tr>\n",
       "    <tr>\n",
       "      <th>3</th>\n",
       "      <td>96747</td>\n",
       "      <td>Jakarta Timur</td>\n",
       "      <td>Halim Perdana Kusuma Jakarta</td>\n",
       "      <td>1057</td>\n",
       "    </tr>\n",
       "  </tbody>\n",
       "</table>\n",
       "</div>"
      ],
      "text/plain": [
       "   station_id      region_name                               station_name  \\\n",
       "0       96733  Jakarta Selatan                 Stasiun Klimatologi Banten   \n",
       "1       96741    Jakarta Utara  Stasiun Meteorologi Maritim Tanjung Priok   \n",
       "2       96745    Jakarta Pusat              Stasiun Meteorologi Kemayoran   \n",
       "3       96747    Jakarta Timur               Halim Perdana Kusuma Jakarta   \n",
       "\n",
       "   station_cnt  \n",
       "0         1658  \n",
       "1         1779  \n",
       "2         1814  \n",
       "3         1057  "
      ]
     },
     "execution_count": 10,
     "metadata": {},
     "output_type": "execute_result"
    }
   ],
   "source": [
    "df_region_sum = df.groupby(['station_id', 'region_name', 'station_name'], as_index=0).agg(station_cnt=('station_id', 'count'))\n",
    "df_region_sum"
   ]
  },
  {
   "cell_type": "code",
   "execution_count": 11,
   "metadata": {},
   "outputs": [
    {
     "data": {
      "image/png": "[encoded data removed]",
      "text/plain": [
       "<Figure size 600x400 with 1 Axes>"
      ]
     },
     "metadata": {},
     "output_type": "display_data"
    }
   ],
   "source": [
    "fig2 = plt.figure(figsize=(6,4))\n",
    "sns.barplot(data=df_ddd_car_sum, x=df_ddd_car_sum['ddd_car'], y=df_ddd_car_sum['ddd_cnt'])\n",
    "plt.xlabel('Order Status')\n",
    "plt.ylabel('Total Order')\n",
    "plt.title('Summary of wind direction')\n",
    "plt.show()"
   ]
  },
  {
   "cell_type": "code",
   "execution_count": 12,
   "metadata": {},
   "outputs": [
    {
     "data": {
      "application/vnd.plotly.v1+json": {
       "config": {
        "plotlyServerURL": "https://plot.ly"
       },
       "data": [
        {
         "type": "bar",
         "x": [
          "C ",
          "E ",
          "N ",
          "NE",
          "NW",
          "S ",
          "SE",
          "SW",
          "W "
         ],
         "y": [
          1239,
          626,
          1681,
          432,
          158,
          258,
          235,
          305,
          1273
         ]
        }
       ],
       "layout": {
        "template": {
         "data": {
          "bar": [
           {
            "error_x": {
             "color": "#2a3f5f"
            },
            "error_y": {
             "color": "#2a3f5f"
            },
            "marker": {
             "line": {
              "color": "#E5ECF6",
              "width": 0.5
             },
             "pattern": {
              "fillmode": "overlay",
              "size": 10,
              "solidity": 0.2
             }
            },
            "type": "bar"
           }
          ],
          "barpolar": [
           {
            "marker": {
             "line": {
              "color": "#E5ECF6",
              "width": 0.5
             },
             "pattern": {
              "fillmode": "overlay",
              "size": 10,
              "solidity": 0.2
             }
            },
            "type": "barpolar"
           }
          ],
          "carpet": [
           {
            "aaxis": {
             "endlinecolor": "#2a3f5f",
             "gridcolor": "white",
             "linecolor": "white",
             "minorgridcolor": "white",
             "startlinecolor": "#2a3f5f"
            },
            "baxis": {
             "endlinecolor": "#2a3f5f",
             "gridcolor": "white",
             "linecolor": "white",
             "minorgridcolor": "white",
             "startlinecolor": "#2a3f5f"
            },
            "type": "carpet"
           }
          ],
          "choropleth": [
           {
            "colorbar": {
             "outlinewidth": 0,
             "ticks": ""
            },
            "type": "choropleth"
           }
          ],
          "contour": [
           {
            "colorbar": {
             "outlinewidth": 0,
             "ticks": ""
            },
            "colorscale": [
             [
              0,
              "#0d0887"
             ],
             [
              0.1111111111111111,
              "#46039f"
             ],
             [
              0.2222222222222222,
              "#7201a8"
             ],
             [
              0.3333333333333333,
              "#9c179e"
             ],
             [
              0.4444444444444444,
              "#bd3786"
             ],
             [
              0.5555555555555556,
              "#d8576b"
             ],
             [
              0.6666666666666666,
              "#ed7953"
             ],
             [
              0.7777777777777778,
              "#fb9f3a"
             ],
             [
              0.8888888888888888,
              "#fdca26"
             ],
             [
              1,
              "#f0f921"
             ]
            ],
            "type": "contour"
           }
          ],
          "contourcarpet": [
           {
            "colorbar": {
             "outlinewidth": 0,
             "ticks": ""
            },
            "type": "contourcarpet"
           }
          ],
          "heatmap": [
           {
            "colorbar": {
             "outlinewidth": 0,
             "ticks": ""
            },
            "colorscale": [
             [
              0,
              "#0d0887"
             ],
             [
              0.1111111111111111,
              "#46039f"
             ],
             [
              0.2222222222222222,
              "#7201a8"
             ],
             [
              0.3333333333333333,
              "#9c179e"
             ],
             [
              0.4444444444444444,
              "#bd3786"
             ],
             [
              0.5555555555555556,
              "#d8576b"
             ],
             [
              0.6666666666666666,
              "#ed7953"
             ],
             [
              0.7777777777777778,
              "#fb9f3a"
             ],
             [
              0.8888888888888888,
              "#fdca26"
             ],
             [
              1,
              "#f0f921"
             ]
            ],
            "type": "heatmap"
           }
          ],
          "heatmapgl": [
           {
            "colorbar": {
             "outlinewidth": 0,
             "ticks": ""
            },
            "colorscale": [
             [
              0,
              "#0d0887"
             ],
             [
              0.1111111111111111,
              "#46039f"
             ],
             [
              0.2222222222222222,
              "#7201a8"
             ],
             [
              0.3333333333333333,
              "#9c179e"
             ],
             [
              0.4444444444444444,
              "#bd3786"
             ],
             [
              0.5555555555555556,
              "#d8576b"
             ],
             [
              0.6666666666666666,
              "#ed7953"
             ],
             [
              0.7777777777777778,
              "#fb9f3a"
             ],
             [
              0.8888888888888888,
              "#fdca26"
             ],
             [
              1,
              "#f0f921"
             ]
            ],
            "type": "heatmapgl"
           }
          ],
          "histogram": [
           {
            "marker": {
             "pattern": {
              "fillmode": "overlay",
              "size": 10,
              "solidity": 0.2
             }
            },
            "type": "histogram"
           }
          ],
          "histogram2d": [
           {
            "colorbar": {
             "outlinewidth": 0,
             "ticks": ""
            },
            "colorscale": [
             [
              0,
              "#0d0887"
             ],
             [
              0.1111111111111111,
              "#46039f"
             ],
             [
              0.2222222222222222,
              "#7201a8"
             ],
             [
              0.3333333333333333,
              "#9c179e"
             ],
             [
              0.4444444444444444,
              "#bd3786"
             ],
             [
              0.5555555555555556,
              "#d8576b"
             ],
             [
              0.6666666666666666,
              "#ed7953"
             ],
             [
              0.7777777777777778,
              "#fb9f3a"
             ],
             [
              0.8888888888888888,
              "#fdca26"
             ],
             [
              1,
              "#f0f921"
             ]
            ],
            "type": "histogram2d"
           }
          ],
          "histogram2dcontour": [
           {
            "colorbar": {
             "outlinewidth": 0,
             "ticks": ""
            },
            "colorscale": [
             [
              0,
              "#0d0887"
             ],
             [
              0.1111111111111111,
              "#46039f"
             ],
             [
              0.2222222222222222,
              "#7201a8"
             ],
             [
              0.3333333333333333,
              "#9c179e"
             ],
             [
              0.4444444444444444,
              "#bd3786"
             ],
             [
              0.5555555555555556,
              "#d8576b"
             ],
             [
              0.6666666666666666,
              "#ed7953"
             ],
             [
              0.7777777777777778,
              "#fb9f3a"
             ],
             [
              0.8888888888888888,
              "#fdca26"
             ],
             [
              1,
              "#f0f921"
             ]
            ],
            "type": "histogram2dcontour"
           }
          ],
          "mesh3d": [
           {
            "colorbar": {
             "outlinewidth": 0,
             "ticks": ""
            },
            "type": "mesh3d"
           }
          ],
          "parcoords": [
           {
            "line": {
             "colorbar": {
              "outlinewidth": 0,
              "ticks": ""
             }
            },
            "type": "parcoords"
           }
          ],
          "pie": [
           {
            "automargin": true,
            "type": "pie"
           }
          ],
          "scatter": [
           {
            "fillpattern": {
             "fillmode": "overlay",
             "size": 10,
             "solidity": 0.2
            },
            "type": "scatter"
           }
          ],
          "scatter3d": [
           {
            "line": {
             "colorbar": {
              "outlinewidth": 0,
              "ticks": ""
             }
            },
            "marker": {
             "colorbar": {
              "outlinewidth": 0,
              "ticks": ""
             }
            },
            "type": "scatter3d"
           }
          ],
          "scattercarpet": [
           {
            "marker": {
             "colorbar": {
              "outlinewidth": 0,
              "ticks": ""
             }
            },
            "type": "scattercarpet"
           }
          ],
          "scattergeo": [
           {
            "marker": {
             "colorbar": {
              "outlinewidth": 0,
              "ticks": ""
             }
            },
            "type": "scattergeo"
           }
          ],
          "scattergl": [
           {
            "marker": {
             "colorbar": {
              "outlinewidth": 0,
              "ticks": ""
             }
            },
            "type": "scattergl"
           }
          ],
          "scattermapbox": [
           {
            "marker": {
             "colorbar": {
              "outlinewidth": 0,
              "ticks": ""
             }
            },
            "type": "scattermapbox"
           }
          ],
          "scatterpolar": [
           {
            "marker": {
             "colorbar": {
              "outlinewidth": 0,
              "ticks": ""
             }
            },
            "type": "scatterpolar"
           }
          ],
          "scatterpolargl": [
           {
            "marker": {
             "colorbar": {
              "outlinewidth": 0,
              "ticks": ""
             }
            },
            "type": "scatterpolargl"
           }
          ],
          "scatterternary": [
           {
            "marker": {
             "colorbar": {
              "outlinewidth": 0,
              "ticks": ""
             }
            },
            "type": "scatterternary"
           }
          ],
          "surface": [
           {
            "colorbar": {
             "outlinewidth": 0,
             "ticks": ""
            },
            "colorscale": [
             [
              0,
              "#0d0887"
             ],
             [
              0.1111111111111111,
              "#46039f"
             ],
             [
              0.2222222222222222,
              "#7201a8"
             ],
             [
              0.3333333333333333,
              "#9c179e"
             ],
             [
              0.4444444444444444,
              "#bd3786"
             ],
             [
              0.5555555555555556,
              "#d8576b"
             ],
             [
              0.6666666666666666,
              "#ed7953"
             ],
             [
              0.7777777777777778,
              "#fb9f3a"
             ],
             [
              0.8888888888888888,
              "#fdca26"
             ],
             [
              1,
              "#f0f921"
             ]
            ],
            "type": "surface"
           }
          ],
          "table": [
           {
            "cells": {
             "fill": {
              "color": "#EBF0F8"
             },
             "line": {
              "color": "white"
             }
            },
            "header": {
             "fill": {
              "color": "#C8D4E3"
             },
             "line": {
              "color": "white"
             }
            },
            "type": "table"
           }
          ]
         },
         "layout": {
          "annotationdefaults": {
           "arrowcolor": "#2a3f5f",
           "arrowhead": 0,
           "arrowwidth": 1
          },
          "autotypenumbers": "strict",
          "coloraxis": {
           "colorbar": {
            "outlinewidth": 0,
            "ticks": ""
           }
          },
          "colorscale": {
           "diverging": [
            [
             0,
             "#8e0152"
            ],
            [
             0.1,
             "#c51b7d"
            ],
            [
             0.2,
             "#de77ae"
            ],
            [
             0.3,
             "#f1b6da"
            ],
            [
             0.4,
             "#fde0ef"
            ],
            [
             0.5,
             "#f7f7f7"
            ],
            [
             0.6,
             "#e6f5d0"
            ],
            [
             0.7,
             "#b8e186"
            ],
            [
             0.8,
             "#7fbc41"
            ],
            [
             0.9,
             "#4d9221"
            ],
            [
             1,
             "#276419"
            ]
           ],
           "sequential": [
            [
             0,
             "#0d0887"
            ],
            [
             0.1111111111111111,
             "#46039f"
            ],
            [
             0.2222222222222222,
             "#7201a8"
            ],
            [
             0.3333333333333333,
             "#9c179e"
            ],
            [
             0.4444444444444444,
             "#bd3786"
            ],
            [
             0.5555555555555556,
             "#d8576b"
            ],
            [
             0.6666666666666666,
             "#ed7953"
            ],
            [
             0.7777777777777778,
             "#fb9f3a"
            ],
            [
             0.8888888888888888,
             "#fdca26"
            ],
            [
             1,
             "#f0f921"
            ]
           ],
           "sequentialminus": [
            [
             0,
             "#0d0887"
            ],
            [
             0.1111111111111111,
             "#46039f"
            ],
            [
             0.2222222222222222,
             "#7201a8"
            ],
            [
             0.3333333333333333,
             "#9c179e"
            ],
            [
             0.4444444444444444,
             "#bd3786"
            ],
            [
             0.5555555555555556,
             "#d8576b"
            ],
            [
             0.6666666666666666,
             "#ed7953"
            ],
            [
             0.7777777777777778,
             "#fb9f3a"
            ],
            [
             0.8888888888888888,
             "#fdca26"
            ],
            [
             1,
             "#f0f921"
            ]
           ]
          },
          "colorway": [
           "#636efa",
           "#EF553B",
           "#00cc96",
           "#ab63fa",
           "#FFA15A",
           "#19d3f3",
           "#FF6692",
           "#B6E880",
           "#FF97FF",
           "#FECB52"
          ],
          "font": {
           "color": "#2a3f5f"
          },
          "geo": {
           "bgcolor": "white",
           "lakecolor": "white",
           "landcolor": "#E5ECF6",
           "showlakes": true,
           "showland": true,
           "subunitcolor": "white"
          },
          "hoverlabel": {
           "align": "left"
          },
          "hovermode": "closest",
          "mapbox": {
           "style": "light"
          },
          "paper_bgcolor": "white",
          "plot_bgcolor": "#E5ECF6",
          "polar": {
           "angularaxis": {
            "gridcolor": "white",
            "linecolor": "white",
            "ticks": ""
           },
           "bgcolor": "#E5ECF6",
           "radialaxis": {
            "gridcolor": "white",
            "linecolor": "white",
            "ticks": ""
           }
          },
          "scene": {
           "xaxis": {
            "backgroundcolor": "#E5ECF6",
            "gridcolor": "white",
            "gridwidth": 2,
            "linecolor": "white",
            "showbackground": true,
            "ticks": "",
            "zerolinecolor": "white"
           },
           "yaxis": {
            "backgroundcolor": "#E5ECF6",
            "gridcolor": "white",
            "gridwidth": 2,
            "linecolor": "white",
            "showbackground": true,
            "ticks": "",
            "zerolinecolor": "white"
           },
           "zaxis": {
            "backgroundcolor": "#E5ECF6",
            "gridcolor": "white",
            "gridwidth": 2,
            "linecolor": "white",
            "showbackground": true,
            "ticks": "",
            "zerolinecolor": "white"
           }
          },
          "shapedefaults": {
           "line": {
            "color": "#2a3f5f"
           }
          },
          "ternary": {
           "aaxis": {
            "gridcolor": "white",
            "linecolor": "white",
            "ticks": ""
           },
           "baxis": {
            "gridcolor": "white",
            "linecolor": "white",
            "ticks": ""
           },
           "bgcolor": "#E5ECF6",
           "caxis": {
            "gridcolor": "white",
            "linecolor": "white",
            "ticks": ""
           }
          },
          "title": {
           "x": 0.05
          },
          "xaxis": {
           "automargin": true,
           "gridcolor": "white",
           "linecolor": "white",
           "ticks": "",
           "title": {
            "standoff": 15
           },
           "zerolinecolor": "white",
           "zerolinewidth": 2
          },
          "yaxis": {
           "automargin": true,
           "gridcolor": "white",
           "linecolor": "white",
           "ticks": "",
           "title": {
            "standoff": 15
           },
           "zerolinecolor": "white",
           "zerolinewidth": 2
          }
         }
        },
        "title": {
         "text": "Summary of Wind Direction"
        }
       }
      }
     },
     "metadata": {},
     "output_type": "display_data"
    }
   ],
   "source": [
    "bar = go.Bar(x=df_ddd_car_sum['ddd_car'], y=df_ddd_car_sum['ddd_cnt'])\n",
    "layout = go.Layout(title='Summary of Wind Direction')\n",
    "fig = go.Figure(data=[bar], layout=layout)\n",
    "fig.show()"
   ]
  },
  {
   "cell_type": "code",
   "execution_count": 13,
   "metadata": {},
   "outputs": [
    {
     "name": "stdout",
     "output_type": "stream",
     "text": [
      "<class 'pandas.core.frame.DataFrame'>\n",
      "RangeIndex: 6308 entries, 0 to 6307\n",
      "Data columns (total 15 columns):\n",
      " #   Column        Non-Null Count  Dtype  \n",
      "---  ------        --------------  -----  \n",
      " 0   date          6308 non-null   object \n",
      " 1   Tn            5996 non-null   float64\n",
      " 2   Tx            6095 non-null   float64\n",
      " 3   Tavg          6262 non-null   float64\n",
      " 4   RH_avg        6256 non-null   float64\n",
      " 5   RR            3993 non-null   float64\n",
      " 6   ss            5049 non-null   float64\n",
      " 7   ff_x          6286 non-null   float64\n",
      " 8   ddd_x         6286 non-null   float64\n",
      " 9   ff_avg        6215 non-null   float64\n",
      " 10  ddd_car       6207 non-null   object \n",
      " 11  station_id    6308 non-null   int64  \n",
      " 12  station_name  6308 non-null   object \n",
      " 13  region_name   6308 non-null   object \n",
      " 14  flood         6308 non-null   int64  \n",
      "dtypes: float64(9), int64(2), object(4)\n",
      "memory usage: 739.3+ KB\n"
     ]
    }
   ],
   "source": [
    "df.info()"
   ]
  },
  {
   "cell_type": "code",
   "execution_count": 41,
   "metadata": {},
   "outputs": [],
   "source": [
    "num_col = ['Tn', 'Tx', 'Tavg', 'RH_avg', 'RR', 'ss', 'ff_x', 'ddd_x', 'ff_avg']\n",
    "date_col = ['date']\n",
    "cat_col = ['ddd_car', 'station_id', 'station_name', 'region_name']\n",
    "target = ['flood']"
   ]
  },
  {
   "cell_type": "code",
   "execution_count": 15,
   "metadata": {},
   "outputs": [
    {
     "data": {
      "text/plain": [
       "<Axes: ylabel='ss'>"
      ]
     },
     "execution_count": 15,
     "metadata": {},
     "output_type": "execute_result"
    },
    {
     "data": {
      "image/png": "[encoded data removed]",
      "text/plain": [
       "<Figure size 600x400 with 1 Axes>"
      ]
     },
     "metadata": {},
     "output_type": "display_data"
    }
   ],
   "source": [
    "fig = plt.figure(figsize=(6,4))\n",
    "sns.boxplot(data=df, y='ss', color='#ADD8E6')"
   ]
  },
  {
   "cell_type": "code",
   "execution_count": 16,
   "metadata": {},
   "outputs": [
    {
     "data": {
      "text/plain": [
       "<Axes: ylabel='ddd_x'>"
      ]
     },
     "execution_count": 16,
     "metadata": {},
     "output_type": "execute_result"
    },
    {
     "data": {
      "image/png": "[encoded data removed]",
      "text/plain": [
       "<Figure size 600x400 with 1 Axes>"
      ]
     },
     "metadata": {},
     "output_type": "display_data"
    }
   ],
   "source": [
    "fig = plt.figure(figsize=(6,4))\n",
    "sns.boxplot(data=df, y='ddd_x', color='#ADD8E6')"
   ]
  },
  {
   "cell_type": "code",
   "execution_count": 17,
   "metadata": {},
   "outputs": [
    {
     "data": {
      "text/plain": [
       "<Axes: ylabel='Tx'>"
      ]
     },
     "execution_count": 17,
     "metadata": {},
     "output_type": "execute_result"
    },
    {
     "data": {
      "image/png": "[encoded data removed]",
      "text/plain": [
       "<Figure size 600x400 with 1 Axes>"
      ]
     },
     "metadata": {},
     "output_type": "display_data"
    }
   ],
   "source": [
    "fig = plt.figure(figsize=(6,4))\n",
    "sns.boxplot(data=df, y='Tx', color='#ADD8E6')"
   ]
  },
  {
   "cell_type": "code",
   "execution_count": 18,
   "metadata": {},
   "outputs": [
    {
     "data": {
      "text/plain": [
       "<Axes: >"
      ]
     },
     "execution_count": 18,
     "metadata": {},
     "output_type": "execute_result"
    },
    {
     "data": {
      "image/png": "[encoded data removed]",
      "text/plain": [
       "<Figure size 600x400 with 2 Axes>"
      ]
     },
     "metadata": {},
     "output_type": "display_data"
    }
   ],
   "source": [
    "fig = plt.figure(figsize=(6, 4))\n",
    "sns.heatmap(df[num_col].corr(), cmap='YlGnBu', annot=True)"
   ]
  },
  {
   "cell_type": "code",
   "execution_count": 19,
   "metadata": {},
   "outputs": [
    {
     "data": {
      "image/png": "[encoded data removed]",
      "text/plain": [
       "<Figure size 640x480 with 10 Axes>"
      ]
     },
     "metadata": {},
     "output_type": "display_data"
    }
   ],
   "source": [
    "df[num_col].plot(kind='box', subplots=True, layout=(5,2), sharex=False, sharey=False)\n",
    "plt.show()"
   ]
  },
  {
   "cell_type": "code",
   "execution_count": 20,
   "metadata": {},
   "outputs": [
    {
     "data": {
      "text/html": [
       "<div>\n",
       "<style scoped>\n",
       "    .dataframe tbody tr th:only-of-type {\n",
       "        vertical-align: middle;\n",
       "    }\n",
       "\n",
       "    .dataframe tbody tr th {\n",
       "        vertical-align: top;\n",
       "    }\n",
       "\n",
       "    .dataframe thead th {\n",
       "        text-align: right;\n",
       "    }\n",
       "</style>\n",
       "<table border=\"1\" class=\"dataframe\">\n",
       "  <thead>\n",
       "    <tr style=\"text-align: right;\">\n",
       "      <th></th>\n",
       "      <th>date</th>\n",
       "      <th>Tn</th>\n",
       "      <th>Tx</th>\n",
       "      <th>Tavg</th>\n",
       "      <th>RH_avg</th>\n",
       "      <th>RR</th>\n",
       "      <th>ss</th>\n",
       "      <th>ff_x</th>\n",
       "      <th>ddd_x</th>\n",
       "      <th>ff_avg</th>\n",
       "      <th>ddd_car</th>\n",
       "      <th>station_id</th>\n",
       "      <th>station_name</th>\n",
       "      <th>region_name</th>\n",
       "      <th>flood</th>\n",
       "    </tr>\n",
       "  </thead>\n",
       "  <tbody>\n",
       "  </tbody>\n",
       "</table>\n",
       "</div>"
      ],
      "text/plain": [
       "Empty DataFrame\n",
       "Columns: [date, Tn, Tx, Tavg, RH_avg, RR, ss, ff_x, ddd_x, ff_avg, ddd_car, station_id, station_name, region_name, flood]\n",
       "Index: []"
      ]
     },
     "execution_count": 20,
     "metadata": {},
     "output_type": "execute_result"
    }
   ],
   "source": [
    "df[df['Tx']<0]"
   ]
  },
  {
   "cell_type": "code",
   "execution_count": 22,
   "metadata": {},
   "outputs": [],
   "source": [
    "# fig2 = plt.figure(figsize=(6,4))\n",
    "# sns.barplot(data=df_region, x=df_ddd_car_sum['ddd_car'], y=df_ddd_car_sum['ddd_cnt'])\n",
    "# plt.xlabel('Order Status')\n",
    "# plt.ylabel('Total Order')\n",
    "# plt.title('Summary of wind direction')\n",
    "# plt.show()"
   ]
  },
  {
   "cell_type": "code",
   "execution_count": 23,
   "metadata": {},
   "outputs": [],
   "source": [
    "df['date'] = pd.to_datetime(df['date'])"
   ]
  },
  {
   "cell_type": "code",
   "execution_count": 24,
   "metadata": {},
   "outputs": [
    {
     "name": "stdout",
     "output_type": "stream",
     "text": [
      "<class 'pandas.core.frame.DataFrame'>\n",
      "RangeIndex: 6308 entries, 0 to 6307\n",
      "Data columns (total 15 columns):\n",
      " #   Column        Non-Null Count  Dtype         \n",
      "---  ------        --------------  -----         \n",
      " 0   date          6308 non-null   datetime64[ns]\n",
      " 1   Tn            5996 non-null   float64       \n",
      " 2   Tx            6095 non-null   float64       \n",
      " 3   Tavg          6262 non-null   float64       \n",
      " 4   RH_avg        6256 non-null   float64       \n",
      " 5   RR            3993 non-null   float64       \n",
      " 6   ss            5049 non-null   float64       \n",
      " 7   ff_x          6286 non-null   float64       \n",
      " 8   ddd_x         6286 non-null   float64       \n",
      " 9   ff_avg        6215 non-null   float64       \n",
      " 10  ddd_car       6207 non-null   object        \n",
      " 11  station_id    6308 non-null   int64         \n",
      " 12  station_name  6308 non-null   object        \n",
      " 13  region_name   6308 non-null   object        \n",
      " 14  flood         6308 non-null   int64         \n",
      "dtypes: datetime64[ns](1), float64(9), int64(2), object(3)\n",
      "memory usage: 739.3+ KB\n"
     ]
    }
   ],
   "source": [
    "df.info()"
   ]
  },
  {
   "cell_type": "code",
   "execution_count": 25,
   "metadata": {},
   "outputs": [],
   "source": [
    "stasiun_1 = df[(df['date']>='2016-1-1')&(df['date']<='2020-12-30') & (df['region_name']=='Jakarta Selatan')]\n",
    "stasiun_2 = df[(df['date']>='2016-1-1')&(df['date']<='2020-12-30') & (df['region_name']=='Jakarta Utara')]\n",
    "stasiun_3 = df[(df['date']>='2016-1-1')&(df['date']<='2020-12-30') & (df['region_name']=='Jakarta Timur')]\n",
    "stasiun_4 = df[(df['date']>='2016-1-1')&(df['date']<='2020-12-30') & (df['region_name']=='Jakarta Pusat')]"
   ]
  },
  {
   "cell_type": "code",
   "execution_count": 26,
   "metadata": {},
   "outputs": [
    {
     "data": {
      "text/plain": [
       "[<matplotlib.lines.Line2D at 0x24e94420e90>]"
      ]
     },
     "execution_count": 26,
     "metadata": {},
     "output_type": "execute_result"
    },
    {
     "data": {
      "image/png": "[encoded data removed]",
      "text/plain": [
       "<Figure size 640x480 with 1 Axes>"
      ]
     },
     "metadata": {},
     "output_type": "display_data"
    }
   ],
   "source": [
    "plt.plot(stasiun_1['date'], stasiun_1['Tn'])"
   ]
  },
  {
   "cell_type": "code",
   "execution_count": 27,
   "metadata": {},
   "outputs": [
    {
     "data": {
      "text/plain": [
       "[<matplotlib.lines.Line2D at 0x24e9403bc90>]"
      ]
     },
     "execution_count": 27,
     "metadata": {},
     "output_type": "execute_result"
    },
    {
     "data": {
      "image/png": "[encoded data removed]",
      "text/plain": [
       "<Figure size 640x480 with 1 Axes>"
      ]
     },
     "metadata": {},
     "output_type": "display_data"
    }
   ],
   "source": [
    "plt.plot(stasiun_2['date'], stasiun_2['Tn'])"
   ]
  },
  {
   "cell_type": "code",
   "execution_count": 28,
   "metadata": {},
   "outputs": [
    {
     "data": {
      "text/plain": [
       "[<matplotlib.lines.Line2D at 0x24e945867d0>]"
      ]
     },
     "execution_count": 28,
     "metadata": {},
     "output_type": "execute_result"
    },
    {
     "data": {
      "image/png": "[encoded data removed]",
      "text/plain": [
       "<Figure size 640x480 with 1 Axes>"
      ]
     },
     "metadata": {},
     "output_type": "display_data"
    }
   ],
   "source": [
    "plt.plot(stasiun_3['date'], stasiun_3['Tn'])"
   ]
  },
  {
   "cell_type": "code",
   "execution_count": 29,
   "metadata": {},
   "outputs": [
    {
     "data": {
      "text/plain": [
       "[<matplotlib.lines.Line2D at 0x24e945f17d0>]"
      ]
     },
     "execution_count": 29,
     "metadata": {},
     "output_type": "execute_result"
    },
    {
     "data": {
      "image/png": "[encoded data removed]",
      "text/plain": [
       "<Figure size 640x480 with 1 Axes>"
      ]
     },
     "metadata": {},
     "output_type": "display_data"
    }
   ],
   "source": [
    "plt.plot(stasiun_4['date'], stasiun_4['Tn'])"
   ]
  },
  {
   "cell_type": "code",
   "execution_count": 30,
   "metadata": {},
   "outputs": [
    {
     "data": {
      "text/plain": [
       "[<matplotlib.lines.Line2D at 0x24e9464e7d0>]"
      ]
     },
     "execution_count": 30,
     "metadata": {},
     "output_type": "execute_result"
    },
    {
     "data": {
      "image/png": "[encoded data removed]",
      "text/plain": [
       "<Figure size 640x480 with 1 Axes>"
      ]
     },
     "metadata": {},
     "output_type": "display_data"
    }
   ],
   "source": [
    "plt.plot(stasiun_1['date'], stasiun_1['Tn'])"
   ]
  },
  {
   "cell_type": "code",
   "execution_count": 31,
   "metadata": {},
   "outputs": [
    {
     "name": "stdout",
     "output_type": "stream",
     "text": [
      "(1657, 15)\n",
      "(1778, 15)\n",
      "(1057, 15)\n",
      "(1813, 15)\n"
     ]
    }
   ],
   "source": [
    "print(stasiun_1.shape)\n",
    "print(stasiun_2.shape)\n",
    "print(stasiun_3.shape)\n",
    "print(stasiun_4.shape)"
   ]
  },
  {
   "cell_type": "code",
   "execution_count": 32,
   "metadata": {},
   "outputs": [
    {
     "name": "stdout",
     "output_type": "stream",
     "text": [
      "<class 'pandas.core.frame.DataFrame'>\n",
      "RangeIndex: 6308 entries, 0 to 6307\n",
      "Data columns (total 15 columns):\n",
      " #   Column        Non-Null Count  Dtype         \n",
      "---  ------        --------------  -----         \n",
      " 0   date          6308 non-null   datetime64[ns]\n",
      " 1   Tn            5996 non-null   float64       \n",
      " 2   Tx            6095 non-null   float64       \n",
      " 3   Tavg          6262 non-null   float64       \n",
      " 4   RH_avg        6256 non-null   float64       \n",
      " 5   RR            3993 non-null   float64       \n",
      " 6   ss            5049 non-null   float64       \n",
      " 7   ff_x          6286 non-null   float64       \n",
      " 8   ddd_x         6286 non-null   float64       \n",
      " 9   ff_avg        6215 non-null   float64       \n",
      " 10  ddd_car       6207 non-null   object        \n",
      " 11  station_id    6308 non-null   int64         \n",
      " 12  station_name  6308 non-null   object        \n",
      " 13  region_name   6308 non-null   object        \n",
      " 14  flood         6308 non-null   int64         \n",
      "dtypes: datetime64[ns](1), float64(9), int64(2), object(3)\n",
      "memory usage: 739.3+ KB\n"
     ]
    }
   ],
   "source": [
    "df.info()"
   ]
  },
  {
   "cell_type": "code",
   "execution_count": 34,
   "metadata": {},
   "outputs": [],
   "source": [
    "from sklearn.impute import KNNImputer"
   ]
  },
  {
   "cell_type": "code",
   "execution_count": 35,
   "metadata": {},
   "outputs": [],
   "source": [
    "imputer = KNNImputer(n_neighbors=7, weights=\"uniform\")"
   ]
  },
  {
   "cell_type": "code",
   "execution_count": 37,
   "metadata": {},
   "outputs": [
    {
     "name": "stdout",
     "output_type": "stream",
     "text": [
      "<class 'pandas.core.frame.DataFrame'>\n",
      "RangeIndex: 6308 entries, 0 to 6307\n",
      "Data columns (total 15 columns):\n",
      " #   Column        Non-Null Count  Dtype         \n",
      "---  ------        --------------  -----         \n",
      " 0   date          6308 non-null   datetime64[ns]\n",
      " 1   Tn            5996 non-null   float64       \n",
      " 2   Tx            6095 non-null   float64       \n",
      " 3   Tavg          6262 non-null   float64       \n",
      " 4   RH_avg        6256 non-null   float64       \n",
      " 5   RR            3993 non-null   float64       \n",
      " 6   ss            5049 non-null   float64       \n",
      " 7   ff_x          6286 non-null   float64       \n",
      " 8   ddd_x         6286 non-null   float64       \n",
      " 9   ff_avg        6215 non-null   float64       \n",
      " 10  ddd_car       6207 non-null   object        \n",
      " 11  station_id    6308 non-null   int64         \n",
      " 12  station_name  6308 non-null   object        \n",
      " 13  region_name   6308 non-null   object        \n",
      " 14  flood         6308 non-null   int64         \n",
      "dtypes: datetime64[ns](1), float64(9), int64(2), object(3)\n",
      "memory usage: 739.3+ KB\n"
     ]
    }
   ],
   "source": []
  },
  {
   "cell_type": "code",
   "execution_count": 58,
   "metadata": {},
   "outputs": [],
   "source": [
    "data_imputed = imputer.fit_transform(df[num_col])"
   ]
  },
  {
   "cell_type": "code",
   "execution_count": 59,
   "metadata": {},
   "outputs": [
    {
     "data": {
      "text/plain": [
       "array([[ 26. ,  34.8,  28.6, ...,   5. , 280. ,   2. ],\n",
       "       [ 25.6,  33.2,  27. , ...,   4. , 290. ,   2. ],\n",
       "       [ 24.4,  34.9,  28.1, ...,   4. , 280. ,   2. ],\n",
       "       ...,\n",
       "       [ 25.2,  33.4,  28.7, ...,  14. , 120. ,   5. ],\n",
       "       [ 24. ,  34.4,  30. , ...,  14. , 240. ,   5. ],\n",
       "       [ 25.4,  32.8,  28.2, ...,  14. , 180. ,   5. ]])"
      ]
     },
     "execution_count": 59,
     "metadata": {},
     "output_type": "execute_result"
    }
   ],
   "source": [
    "data_imputed"
   ]
  },
  {
   "cell_type": "code",
   "execution_count": 55,
   "metadata": {},
   "outputs": [],
   "source": [
    "df_cat = df[cat_col]"
   ]
  },
  {
   "cell_type": "code",
   "execution_count": 50,
   "metadata": {},
   "outputs": [
    {
     "data": {
      "text/plain": [
       "ddd_car         101\n",
       "station_id        0\n",
       "station_name      0\n",
       "region_name       0\n",
       "dtype: int64"
      ]
     },
     "execution_count": 50,
     "metadata": {},
     "output_type": "execute_result"
    }
   ],
   "source": [
    "df_cat.isna().sum()"
   ]
  },
  {
   "cell_type": "code",
   "execution_count": 56,
   "metadata": {},
   "outputs": [
    {
     "name": "stderr",
     "output_type": "stream",
     "text": [
      "C:\\Users\\fayme amelia celesta\\AppData\\Local\\Temp\\ipykernel_8828\\546368343.py:1: SettingWithCopyWarning:\n",
      "\n",
      "\n",
      "A value is trying to be set on a copy of a slice from a DataFrame\n",
      "\n",
      "See the caveats in the documentation: https://pandas.pydata.org/pandas-docs/stable/user_guide/indexing.html#returning-a-view-versus-a-copy\n",
      "\n"
     ]
    }
   ],
   "source": [
    "df_cat['ddd_car'].fillna(df_cat['ddd_car'].mode()[0], inplace=True)"
   ]
  },
  {
   "cell_type": "code",
   "execution_count": 60,
   "metadata": {},
   "outputs": [],
   "source": [
    "df_imputed = pd.DataFrame(data_imputed, columns=num_col)"
   ]
  },
  {
   "cell_type": "code",
   "execution_count": 61,
   "metadata": {},
   "outputs": [
    {
     "name": "stdout",
     "output_type": "stream",
     "text": [
      "<class 'pandas.core.frame.DataFrame'>\n",
      "RangeIndex: 6308 entries, 0 to 6307\n",
      "Data columns (total 9 columns):\n",
      " #   Column  Non-Null Count  Dtype  \n",
      "---  ------  --------------  -----  \n",
      " 0   Tn      6308 non-null   float64\n",
      " 1   Tx      6308 non-null   float64\n",
      " 2   Tavg    6308 non-null   float64\n",
      " 3   RH_avg  6308 non-null   float64\n",
      " 4   RR      6308 non-null   float64\n",
      " 5   ss      6308 non-null   float64\n",
      " 6   ff_x    6308 non-null   float64\n",
      " 7   ddd_x   6308 non-null   float64\n",
      " 8   ff_avg  6308 non-null   float64\n",
      "dtypes: float64(9)\n",
      "memory usage: 443.7 KB\n"
     ]
    }
   ],
   "source": [
    "df_imputed.info()"
   ]
  },
  {
   "cell_type": "code",
   "execution_count": 57,
   "metadata": {},
   "outputs": [
    {
     "data": {
      "text/plain": [
       "ddd_car         0\n",
       "station_id      0\n",
       "station_name    0\n",
       "region_name     0\n",
       "dtype: int64"
      ]
     },
     "execution_count": 57,
     "metadata": {},
     "output_type": "execute_result"
    }
   ],
   "source": [
    "df_cat.isna().sum()"
   ]
  },
  {
   "cell_type": "code",
   "execution_count": 62,
   "metadata": {},
   "outputs": [],
   "source": [
    "df_train = pd.concat([df_imputed, df_cat], axis=1)"
   ]
  },
  {
   "cell_type": "code",
   "execution_count": 71,
   "metadata": {},
   "outputs": [],
   "source": [
    "df_train.drop(columns=['station_id', 'station_name'], inplace=True)"
   ]
  },
  {
   "cell_type": "code",
   "execution_count": 72,
   "metadata": {},
   "outputs": [
    {
     "name": "stdout",
     "output_type": "stream",
     "text": [
      "<class 'pandas.core.frame.DataFrame'>\n",
      "RangeIndex: 6308 entries, 0 to 6307\n",
      "Data columns (total 11 columns):\n",
      " #   Column       Non-Null Count  Dtype  \n",
      "---  ------       --------------  -----  \n",
      " 0   Tn           6308 non-null   float64\n",
      " 1   Tx           6308 non-null   float64\n",
      " 2   Tavg         6308 non-null   float64\n",
      " 3   RH_avg       6308 non-null   float64\n",
      " 4   RR           6308 non-null   float64\n",
      " 5   ss           6308 non-null   float64\n",
      " 6   ff_x         6308 non-null   float64\n",
      " 7   ddd_x        6308 non-null   float64\n",
      " 8   ff_avg       6308 non-null   float64\n",
      " 9   ddd_car      6308 non-null   object \n",
      " 10  region_name  6308 non-null   object \n",
      "dtypes: float64(9), object(2)\n",
      "memory usage: 542.2+ KB\n"
     ]
    }
   ],
   "source": [
    "df_train.info()"
   ]
  },
  {
   "cell_type": "code",
   "execution_count": 73,
   "metadata": {},
   "outputs": [],
   "source": [
    "df_train_dummied = pd.get_dummies(df_train, columns=['ddd_car', 'region_name'], drop_first=True)"
   ]
  },
  {
   "cell_type": "code",
   "execution_count": 94,
   "metadata": {},
   "outputs": [],
   "source": [
    "rf = RandomForestClassifier(n_estimators=150, max_depth=15, random_state=42)"
   ]
  },
  {
   "cell_type": "code",
   "execution_count": 95,
   "metadata": {},
   "outputs": [],
   "source": [
    "X_train, X_test, y_train, y_test = train_test_split(df_train_dummied, df[target], test_size=0.25, random_state=42)"
   ]
  },
  {
   "cell_type": "code",
   "execution_count": 96,
   "metadata": {},
   "outputs": [
    {
     "name": "stderr",
     "output_type": "stream",
     "text": [
      "c:\\Users\\fayme amelia celesta\\AppData\\Local\\Programs\\Python\\Python311\\Lib\\site-packages\\sklearn\\base.py:1151: DataConversionWarning:\n",
      "\n",
      "A column-vector y was passed when a 1d array was expected. Please change the shape of y to (n_samples,), for example using ravel().\n",
      "\n"
     ]
    }
   ],
   "source": [
    "m1 = rf.fit(X_train, y_train)"
   ]
  },
  {
   "cell_type": "code",
   "execution_count": 97,
   "metadata": {},
   "outputs": [],
   "source": [
    "m1_predict = rf.predict(X_test)"
   ]
  },
  {
   "cell_type": "code",
   "execution_count": 98,
   "metadata": {},
   "outputs": [],
   "source": [
    "from sklearn.metrics import accuracy_score"
   ]
  },
  {
   "cell_type": "code",
   "execution_count": 99,
   "metadata": {},
   "outputs": [],
   "source": [
    "accuracy = accuracy_score(y_test, m1_predict)"
   ]
  },
  {
   "cell_type": "code",
   "execution_count": 100,
   "metadata": {},
   "outputs": [
    {
     "name": "stdout",
     "output_type": "stream",
     "text": [
      "0.9188332276474318\n"
     ]
    }
   ],
   "source": [
    "print(accuracy)"
   ]
  },
  {
   "cell_type": "code",
   "execution_count": 165,
   "metadata": {},
   "outputs": [
    {
     "name": "stderr",
     "output_type": "stream",
     "text": [
      "c:\\Users\\fayme amelia celesta\\AppData\\Local\\Programs\\Python\\Python311\\Lib\\site-packages\\sklearn\\base.py:464: UserWarning:\n",
      "\n",
      "X does not have valid feature names, but RandomForestClassifier was fitted with feature names\n",
      "\n"
     ]
    }
   ],
   "source": [
    "# Masukkan input dalam bentuk array 2 dimensi dengan reshape\n",
    "input_data = np.array([26, 32, 30, 80, 120, 2, 10, 1, 0, 0, 0, 0, 0, 0, 0, 0, 1, 0, 0, 0]).reshape(1, -1)\n",
    "\n",
    "# Lakukan prediksi menggunakan model random forest\n",
    "m1_predict2 = rf.predict(input_data)"
   ]
  },
  {
   "cell_type": "code",
   "execution_count": 166,
   "metadata": {},
   "outputs": [
    {
     "name": "stdout",
     "output_type": "stream",
     "text": [
      "[1]\n"
     ]
    }
   ],
   "source": [
    "# Print hasil prediksi\n",
    "print(m1_predict2)"
   ]
  },
  {
   "cell_type": "code",
   "execution_count": 175,
   "metadata": {},
   "outputs": [
    {
     "data": {
      "text/plain": [
       "(1577, 1)"
      ]
     },
     "execution_count": 175,
     "metadata": {},
     "output_type": "execute_result"
    }
   ],
   "source": [
    "y_test.shape"
   ]
  },
  {
   "cell_type": "code",
   "execution_count": 7,
   "metadata": {},
   "outputs": [
    {
     "name": "stdout",
     "output_type": "stream",
     "text": [
      "<class 'pandas.core.frame.DataFrame'>\n",
      "Index: 1779 entries, 1658 to 3436\n",
      "Data columns (total 15 columns):\n",
      " #   Column        Non-Null Count  Dtype  \n",
      "---  ------        --------------  -----  \n",
      " 0   date          1779 non-null   object \n",
      " 1   Tn            1546 non-null   float64\n",
      " 2   Tx            1605 non-null   float64\n",
      " 3   Tavg          1748 non-null   float64\n",
      " 4   RH_avg        1746 non-null   float64\n",
      " 5   RR            1044 non-null   float64\n",
      " 6   ss            1639 non-null   float64\n",
      " 7   ff_x          1774 non-null   float64\n",
      " 8   ddd_x         1774 non-null   float64\n",
      " 9   ff_avg        1774 non-null   float64\n",
      " 10  ddd_car       1779 non-null   object \n",
      " 11  station_id    1779 non-null   int64  \n",
      " 12  station_name  1779 non-null   object \n",
      " 13  region_name   1779 non-null   object \n",
      " 14  flood         1779 non-null   int64  \n",
      "dtypes: float64(9), int64(2), object(4)\n",
      "memory usage: 222.4+ KB\n"
     ]
    }
   ],
   "source": [
    "df[df['region_name']=='Jakarta Utara'].info()"
   ]
  }
 ],
 "metadata": {
  "kernelspec": {
   "display_name": "Python 3.11.0 64-bit",
   "language": "python",
   "name": "python3"
  },
  "language_info": {
   "codemirror_mode": {
    "name": "ipython",
    "version": 3
   },
   "file_extension": ".py",
   "mimetype": "text/x-python",
   "name": "python",
   "nbconvert_exporter": "python",
   "pygments_lexer": "ipython3",
   "version": "3.11.0"
  },
  "orig_nbformat": 4,
  "vscode": {
   "interpreter": {
    "hash": "308ea38c27cab8b3f9525a60c8213e172097bb9984596a40bca47204d40a86e4"
   }
  }
 },
 "nbformat": 4,
 "nbformat_minor": 2
}
