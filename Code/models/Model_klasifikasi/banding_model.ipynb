{
 "cells": [
  {
   "cell_type": "code",
   "execution_count": 19,
   "metadata": {},
   "outputs": [],
   "source": [
    "import pandas as pd\n",
    "from sklearn.metrics import accuracy_score\n",
    "from sklearn.metrics import f1_score\n",
    "import matplotlib.pyplot as plt\n",
    "from sklearn.metrics import confusion_matrix\n",
    "import seaborn as sns"
   ]
  },
  {
   "cell_type": "code",
   "execution_count": 4,
   "metadata": {},
   "outputs": [],
   "source": [
    "df_fix = pd.read_csv('C:\\\\Users\\\\fayme amelia celesta\\\\Documents\\\\VScode\\\\Github\\\\Intern-BCC-2024\\\\Dataset\\\\Processed\\\\df_fix.csv')"
   ]
  },
  {
   "cell_type": "code",
   "execution_count": 5,
   "metadata": {},
   "outputs": [
    {
     "name": "stdout",
     "output_type": "stream",
     "text": [
      "<class 'pandas.core.frame.DataFrame'>\n",
      "RangeIndex: 6308 entries, 0 to 6307\n",
      "Data columns (total 11 columns):\n",
      " #   Column       Non-Null Count  Dtype  \n",
      "---  ------       --------------  -----  \n",
      " 0   Unnamed: 0   6308 non-null   int64  \n",
      " 1   date         6308 non-null   object \n",
      " 2   Tavg         6308 non-null   float64\n",
      " 3   RH_avg       6308 non-null   float64\n",
      " 4   ss           6308 non-null   float64\n",
      " 5   ddd_x        6308 non-null   float64\n",
      " 6   ff_avg       6308 non-null   float64\n",
      " 7   RR           6308 non-null   float64\n",
      " 8   ddd_car      6308 non-null   object \n",
      " 9   region_name  6308 non-null   object \n",
      " 10  flood        6308 non-null   int64  \n",
      "dtypes: float64(6), int64(2), object(3)\n",
      "memory usage: 542.2+ KB\n"
     ]
    }
   ],
   "source": [
    "df_fix.info()"
   ]
  },
  {
   "cell_type": "code",
   "execution_count": 6,
   "metadata": {},
   "outputs": [],
   "source": [
    "df_fix = df_fix.drop(columns=['Unnamed: 0','date'], axis=1)"
   ]
  },
  {
   "cell_type": "code",
   "execution_count": 7,
   "metadata": {},
   "outputs": [
    {
     "name": "stdout",
     "output_type": "stream",
     "text": [
      "<class 'pandas.core.frame.DataFrame'>\n",
      "RangeIndex: 6308 entries, 0 to 6307\n",
      "Data columns (total 9 columns):\n",
      " #   Column       Non-Null Count  Dtype  \n",
      "---  ------       --------------  -----  \n",
      " 0   Tavg         6308 non-null   float64\n",
      " 1   RH_avg       6308 non-null   float64\n",
      " 2   ss           6308 non-null   float64\n",
      " 3   ddd_x        6308 non-null   float64\n",
      " 4   ff_avg       6308 non-null   float64\n",
      " 5   RR           6308 non-null   float64\n",
      " 6   ddd_car      6308 non-null   object \n",
      " 7   region_name  6308 non-null   object \n",
      " 8   flood        6308 non-null   int64  \n",
      "dtypes: float64(6), int64(1), object(2)\n",
      "memory usage: 443.7+ KB\n"
     ]
    }
   ],
   "source": [
    "df_fix.info()"
   ]
  },
  {
   "cell_type": "code",
   "execution_count": 8,
   "metadata": {},
   "outputs": [],
   "source": [
    "df_target = df_fix['flood']"
   ]
  },
  {
   "cell_type": "code",
   "execution_count": 9,
   "metadata": {},
   "outputs": [],
   "source": [
    "df_train_dumied = pd.get_dummies(df_fix, columns=['ddd_car', 'region_name'])"
   ]
  },
  {
   "cell_type": "code",
   "execution_count": 23,
   "metadata": {},
   "outputs": [
    {
     "data": {
      "text/plain": [
       "Tavg                           float64\n",
       "RH_avg                         float64\n",
       "ss                             float64\n",
       "ddd_x                          float64\n",
       "ff_avg                         float64\n",
       "RR                             float64\n",
       "ddd_car_C                         bool\n",
       "ddd_car_E                         bool\n",
       "ddd_car_N                         bool\n",
       "ddd_car_NE                        bool\n",
       "ddd_car_NW                        bool\n",
       "ddd_car_S                         bool\n",
       "ddd_car_SE                        bool\n",
       "ddd_car_SW                        bool\n",
       "ddd_car_W                         bool\n",
       "region_name_Jakarta Pusat         bool\n",
       "region_name_Jakarta Selatan       bool\n",
       "region_name_Jakarta Timur         bool\n",
       "region_name_Jakarta Utara         bool\n",
       "dtype: object"
      ]
     },
     "execution_count": 23,
     "metadata": {},
     "output_type": "execute_result"
    }
   ],
   "source": [
    "df_train_dumied.dtypes"
   ]
  },
  {
   "cell_type": "code",
   "execution_count": 12,
   "metadata": {},
   "outputs": [],
   "source": [
    "df_train_dumied.drop(columns=['flood'], inplace=True)"
   ]
  },
  {
   "cell_type": "code",
   "execution_count": 13,
   "metadata": {},
   "outputs": [
    {
     "name": "stdout",
     "output_type": "stream",
     "text": [
      "Jumlah sampel setelah oversampling:\n",
      "flood\n",
      "0    5832\n",
      "1    5832\n",
      "Name: count, dtype: int64\n"
     ]
    }
   ],
   "source": [
    "from imblearn.over_sampling import RandomOverSampler    \n",
    "X = df_train_dumied\n",
    "y = df_target\n",
    "\n",
    "# Inisialisasi RandomOverSampler\n",
    "oversampler = RandomOverSampler(random_state=42)\n",
    "\n",
    "# Melakukan oversampling\n",
    "X_resampled, y_resampled = oversampler.fit_resample(X, y)\n",
    "\n",
    "# Menampilkan jumlah sampel setelah oversampling\n",
    "print(\"Jumlah sampel setelah oversampling:\")\n",
    "print(y_resampled.value_counts())"
   ]
  },
  {
   "cell_type": "code",
   "execution_count": 14,
   "metadata": {},
   "outputs": [
    {
     "name": "stdout",
     "output_type": "stream",
     "text": [
      "Jumlah data latih: 9331\n",
      "Jumlah data uji: 2333\n"
     ]
    }
   ],
   "source": [
    "from sklearn.model_selection import train_test_split\n",
    "\n",
    "X_train, X_test, y_train, y_test = train_test_split(X_resampled, y_resampled, test_size=0.2, random_state=42)\n",
    "print(\"Jumlah data latih:\", len(X_train))\n",
    "print(\"Jumlah data uji:\", len(X_test))\n"
   ]
  },
  {
   "cell_type": "code",
   "execution_count": 20,
   "metadata": {},
   "outputs": [
    {
     "name": "stdout",
     "output_type": "stream",
     "text": [
      "Accuracy: 0.9828546935276468\n",
      "f1 score: 0.9825783972125435\n"
     ]
    },
    {
     "data": {
      "text/plain": [
       "<Axes: >"
      ]
     },
     "execution_count": 20,
     "metadata": {},
     "output_type": "execute_result"
    },
    {
     "data": {
      "image/png": "[encoded data removed]",
      "text/plain": [
       "<Figure size 640x480 with 2 Axes>"
      ]
     },
     "metadata": {},
     "output_type": "display_data"
    }
   ],
   "source": [
    "from sklearn.ensemble import RandomForestClassifier\n",
    "\n",
    "rf = RandomForestClassifier(random_state=42)\n",
    "rf.fit(X_train, y_train)\n",
    "from sklearn.metrics import accuracy_score\n",
    "y_pred = rf.predict(X_test)\n",
    "accuracy = accuracy_score(y_test, y_pred)\n",
    "print(\"Accuracy:\", accuracy)\n",
    "f1 = f1_score(y_test, y_pred)\n",
    "print(\"f1 score:\", f1)\n",
    "cm_2 = confusion_matrix(y_test,y_pred)\n",
    "sns.heatmap(cm_2,annot=True,fmt=\"g\")\n"
   ]
  },
  {
   "cell_type": "code",
   "execution_count": 21,
   "metadata": {},
   "outputs": [
    {
     "name": "stdout",
     "output_type": "stream",
     "text": [
      "Accuracy: 0.9507072438919846\n",
      "f1 score: 0.9514563106796116\n"
     ]
    },
    {
     "data": {
      "text/plain": [
       "<Axes: >"
      ]
     },
     "execution_count": 21,
     "metadata": {},
     "output_type": "execute_result"
    },
    {
     "data": {
      "image/png": "[encoded data removed]",
      "text/plain": [
       "<Figure size 640x480 with 2 Axes>"
      ]
     },
     "metadata": {},
     "output_type": "display_data"
    }
   ],
   "source": [
    "import xgboost as xgb\n",
    "\n",
    "xgb_classifier = xgb.XGBClassifier()\n",
    "xgb_classifier.fit(X_train, y_train) \n",
    "\n",
    "\n",
    "y_pred = xgb_classifier.predict(X_test)\n",
    "accuracy = accuracy_score(y_test, y_pred)\n",
    "print(\"Accuracy:\", accuracy)\n",
    "f1 = f1_score(y_test, y_pred)\n",
    "print(\"f1 score:\", f1)\n",
    "cm_2 = confusion_matrix(y_test,y_pred)\n",
    "sns.heatmap(cm_2,annot=True,fmt=\"g\")\n",
    "\n"
   ]
  },
  {
   "cell_type": "code",
   "execution_count": 22,
   "metadata": {},
   "outputs": [
    {
     "name": "stdout",
     "output_type": "stream",
     "text": [
      "Accuracy: 0.7603943420488641\n",
      "f1 score: 0.7589478223372143\n"
     ]
    },
    {
     "data": {
      "text/plain": [
       "<Axes: >"
      ]
     },
     "execution_count": 22,
     "metadata": {},
     "output_type": "execute_result"
    },
    {
     "data": {
      "image/png": "[encoded data removed]",
      "text/plain": [
       "<Figure size 640x480 with 2 Axes>"
      ]
     },
     "metadata": {},
     "output_type": "display_data"
    }
   ],
   "source": [
    "from sklearn.svm import SVC\n",
    "svc = SVC(kernel='linear', random_state=42)\n",
    "\n",
    "svc.fit(X_train, y_train)\n",
    "\n",
    "y_pred = svc.predict(X_test)\n",
    "\n",
    "accuracy = accuracy_score(y_test, y_pred)\n",
    "print(\"Accuracy:\", accuracy)\n",
    "f1 = f1_score(y_test, y_pred)\n",
    "print(\"f1 score:\", f1)\n",
    "cm_2 = confusion_matrix(y_test,y_pred)\n",
    "sns.heatmap(cm_2,annot=True,fmt=\"g\")\n"
   ]
  }
 ],
 "metadata": {
  "kernelspec": {
   "display_name": "Python 3.11.0 64-bit",
   "language": "python",
   "name": "python3"
  },
  "language_info": {
   "codemirror_mode": {
    "name": "ipython",
    "version": 3
   },
   "file_extension": ".py",
   "mimetype": "text/x-python",
   "name": "python",
   "nbconvert_exporter": "python",
   "pygments_lexer": "ipython3",
   "version": "3.11.0"
  },
  "vscode": {
   "interpreter": {
    "hash": "308ea38c27cab8b3f9525a60c8213e172097bb9984596a40bca47204d40a86e4"
   }
  }
 },
 "nbformat": 4,
 "nbformat_minor": 2
}
